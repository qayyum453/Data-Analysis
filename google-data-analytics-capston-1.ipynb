{
 "cells": [
  {
   "cell_type": "code",
   "execution_count": 1,
   "id": "022665d4",
   "metadata": {
    "_execution_state": "idle",
    "_uuid": "051d70d956493feee0c6d64651c6a088724dca2a",
    "execution": {
     "iopub.execute_input": "2021-12-03T11:07:49.139343Z",
     "iopub.status.busy": "2021-12-03T11:07:49.135695Z",
     "iopub.status.idle": "2021-12-03T11:07:50.390902Z",
     "shell.execute_reply": "2021-12-03T11:07:50.389424Z"
    },
    "papermill": {
     "duration": 1.325699,
     "end_time": "2021-12-03T11:07:50.391078",
     "exception": false,
     "start_time": "2021-12-03T11:07:49.065379",
     "status": "completed"
    },
    "tags": []
   },
   "outputs": [
    {
     "name": "stderr",
     "output_type": "stream",
     "text": [
      "── \u001b[1mAttaching packages\u001b[22m ─────────────────────────────────────── tidyverse 1.3.1 ──\n",
      "\n",
      "\u001b[32m✔\u001b[39m \u001b[34mggplot2\u001b[39m 3.3.5     \u001b[32m✔\u001b[39m \u001b[34mpurrr  \u001b[39m 0.3.4\n",
      "\u001b[32m✔\u001b[39m \u001b[34mtibble \u001b[39m 3.1.5     \u001b[32m✔\u001b[39m \u001b[34mdplyr  \u001b[39m 1.0.7\n",
      "\u001b[32m✔\u001b[39m \u001b[34mtidyr  \u001b[39m 1.1.4     \u001b[32m✔\u001b[39m \u001b[34mstringr\u001b[39m 1.4.0\n",
      "\u001b[32m✔\u001b[39m \u001b[34mreadr  \u001b[39m 2.0.2     \u001b[32m✔\u001b[39m \u001b[34mforcats\u001b[39m 0.5.1\n",
      "\n",
      "── \u001b[1mConflicts\u001b[22m ────────────────────────────────────────── tidyverse_conflicts() ──\n",
      "\u001b[31m✖\u001b[39m \u001b[34mdplyr\u001b[39m::\u001b[32mfilter()\u001b[39m masks \u001b[34mstats\u001b[39m::filter()\n",
      "\u001b[31m✖\u001b[39m \u001b[34mdplyr\u001b[39m::\u001b[32mlag()\u001b[39m    masks \u001b[34mstats\u001b[39m::lag()\n",
      "\n"
     ]
    },
    {
     "data": {
      "text/html": [
       "'divy-bike-share-data'"
      ],
      "text/latex": [
       "'divy-bike-share-data'"
      ],
      "text/markdown": [
       "'divy-bike-share-data'"
      ],
      "text/plain": [
       "[1] \"divy-bike-share-data\""
      ]
     },
     "metadata": {},
     "output_type": "display_data"
    }
   ],
   "source": [
    "# This R environment comes with many helpful analytics packages installed\n",
    "# It is defined by the kaggle/rstats Docker image: https://github.com/kaggle/docker-rstats\n",
    "# For example, here's a helpful package to load\n",
    "\n",
    "library(tidyverse) # metapackage of all tidyverse packages\n",
    "\n",
    "# Input data files are available in the read-only \"../input/\" directory\n",
    "# For example, running this (by clicking run or pressing Shift+Enter) will list all files under the input directory\n",
    "\n",
    "list.files(path = \"../input\")\n",
    "\n",
    "# You can write up to 20GB to the current directory (/kaggle/working/) that gets preserved as output when you create a version using \"Save & Run All\" \n",
    "# You can also write temporary files to /kaggle/temp/, but they won't be saved outside of the current session"
   ]
  },
  {
   "cell_type": "markdown",
   "id": "c132eaa4",
   "metadata": {
    "papermill": {
     "duration": 0.062387,
     "end_time": "2021-12-03T11:07:50.517544",
     "exception": false,
     "start_time": "2021-12-03T11:07:50.455157",
     "status": "completed"
    },
    "tags": []
   },
   "source": [
    "This is an optional Capstone Project (Case Study # 1) from course 8 of Google data analytics Specialization.\n",
    "\n",
    "This analysis will follows the 6 steps of Data Analysis taught in Google Data Analytics specialization and these steps are : *Ask, Prepare, Process, Analyze, Share and Act.*\n",
    "\n",
    "# Phase 1: Ask\n",
    "\n",
    "In the ask step, we will define the problem and objectives and the desired output of our Case Study.\n",
    "\n",
    "## About the Company\n",
    "\n",
    "In 2016, Cyclistic launched a successful bike-share offering. Since then, the program has grown to a fleet of 5,824 bicycles that are geotracked and locked into a network of 692 stations across Chicago. The bikes can be unlocked from one station and returned to any other station in the system anytime.\n",
    "\n",
    "Customers who purchase single-ride or full-day passes are referred to as casual riders. Customers who purchase annual memberships are Cyclistic members.\n",
    "\n",
    "\n",
    "Cyclistic’s finance analysts have concluded that annual members are much more profitable than casual riders.\n",
    "\n",
    "## Business Objective\n",
    "\n",
    "Converting casual riders into annual members by analyzing the Cyclistic historic bike trip data.\n",
    "\n",
    "\n",
    "## Questions to Ask are\n",
    "  \n",
    "  * How do annual members and casual riders use           Cyclistict bikes differently?\n",
    "  * Why would casual riders buy Cyclistic annual memberships?\n",
    "  * How can Cyclistic use digital media to influennce casual riders to become annual members?\n",
    "  \n",
    "## Stakehoders\n",
    "\n",
    "  * Cyclistic: A bike-share program that features more than 5,800 bicycles and 600 docking stations.\n",
    "  * Lily Moreno: The direcotor of marketing team.\n",
    "  * Cyclistic Marketing Analytics team: A team of data analysts who are responsible for collecting, analyzing, and reporting data that helps guide Cyclistic Marketing strategy.\n",
    "  * Cyclistic Executive Team: The executive team which will decide to approve the recommended marketing program or not.\n",
    "\n",
    "\n",
    "# Phase 2: Prepare\n",
    "In this phase we will talk about the data and it's limitation if any.\n",
    "\n",
    "The data that I will be using for this case study is Cyclistic's Historical Trip data from last 12 months starting from November 2020 to October 2021. This data is readily available on this [link](https://divvy-tripdata.s3.amazonaws.com/index.html) under the [license](https://www.divvybikes.com/data-license-agreement) provided by Motivate International Inc.\n",
    "\n",
    "\n",
    "## Is Data ROCCC?\n",
    "\n",
    "ROCCC approach is used determine whether data is reliable, original, Comprehensive, Current And Cited.\n",
    "\n",
    "The data is reliable as it represents all the bike rides in city of Chicago that has happened in the duration of our analysis. The data is made available by Motivate International Inc. which operates Divvy bicycle sharing service in Chicago, so data is original. The data is comprehensive is it includes all the information about bike rides, like starting time, ending time, station name, station Id and type of membership. The data is up-to-date as it includes data until end of November 2021. The data is also cited and is availabe under Data License Agreement.\n",
    "\n",
    "## Data Limitation\n",
    "\n",
    "By having a quick look at excel files for the twelve months of bike rides shows that there are some names missing for start_station_name and station_ID and also end_station_ID and end_Station_name and by further looking at the type of rides I found out that most of the above information are missing for electric_bike rides.\n",
    "\n",
    "This limitation will slightly effect our analysis specifically for those stations where most of the rides types are electric.\n",
    "\n",
    "# Phase 3: Process\n",
    "\n",
    "In this step we will start cleaning our data, so that when we finally get to analysis phase our data is completely clean of possible errors.\n",
    "\n",
    "## Tools: \n",
    "The tool that I will use for the cleaning purpose is R programming language.I could have used Google spreadsheet or Excel to clean the data as well, but as the data is in great amount, so cleaning process in excel or google spreadsheet will take more time."
   ]
  },
  {
   "cell_type": "code",
   "execution_count": 2,
   "id": "63fb480a",
   "metadata": {
    "execution": {
     "iopub.execute_input": "2021-12-03T11:07:50.676381Z",
     "iopub.status.busy": "2021-12-03T11:07:50.646798Z",
     "iopub.status.idle": "2021-12-03T11:07:50.824791Z",
     "shell.execute_reply": "2021-12-03T11:07:50.823440Z"
    },
    "papermill": {
     "duration": 0.244393,
     "end_time": "2021-12-03T11:07:50.824959",
     "exception": false,
     "start_time": "2021-12-03T11:07:50.580566",
     "status": "completed"
    },
    "tags": []
   },
   "outputs": [
    {
     "name": "stderr",
     "output_type": "stream",
     "text": [
      "\n",
      "Attaching package: ‘lubridate’\n",
      "\n",
      "\n",
      "The following objects are masked from ‘package:base’:\n",
      "\n",
      "    date, intersect, setdiff, union\n",
      "\n",
      "\n",
      "\n",
      "Attaching package: ‘janitor’\n",
      "\n",
      "\n",
      "The following objects are masked from ‘package:stats’:\n",
      "\n",
      "    chisq.test, fisher.test\n",
      "\n",
      "\n"
     ]
    }
   ],
   "source": [
    "# Loading required libraries first\n",
    "library(tidyverse)\n",
    "library(ggplot2)\n",
    "library(readr)\n",
    "library(dplyr)\n",
    "library(lubridate)\n",
    "library(skimr)\n",
    "library(janitor)"
   ]
  },
  {
   "cell_type": "markdown",
   "id": "73c0b392",
   "metadata": {
    "papermill": {
     "duration": 0.064559,
     "end_time": "2021-12-03T11:07:50.955276",
     "exception": false,
     "start_time": "2021-12-03T11:07:50.890717",
     "status": "completed"
    },
    "tags": []
   },
   "source": [
    "## Organize\n",
    "Combining all the 12 files will create a huge datasets of over 8 million records, so I will only read 4 files of bike rides and than combine them"
   ]
  },
  {
   "cell_type": "code",
   "execution_count": 3,
   "id": "7ab293d1",
   "metadata": {
    "execution": {
     "iopub.execute_input": "2021-12-03T11:07:51.090444Z",
     "iopub.status.busy": "2021-12-03T11:07:51.088946Z",
     "iopub.status.idle": "2021-12-03T11:08:05.642811Z",
     "shell.execute_reply": "2021-12-03T11:08:05.641354Z"
    },
    "papermill": {
     "duration": 14.623508,
     "end_time": "2021-12-03T11:08:05.642994",
     "exception": false,
     "start_time": "2021-12-03T11:07:51.019486",
     "status": "completed"
    },
    "tags": []
   },
   "outputs": [
    {
     "name": "stderr",
     "output_type": "stream",
     "text": [
      "\u001b[1m\u001b[1mRows: \u001b[1m\u001b[22m\u001b[34m\u001b[34m822410\u001b[34m\u001b[39m \u001b[1m\u001b[1mColumns: \u001b[1m\u001b[22m\u001b[34m\u001b[34m13\u001b[34m\u001b[39m\n",
      "\n",
      "\u001b[36m──\u001b[39m \u001b[1m\u001b[1mColumn specification\u001b[1m\u001b[22m \u001b[36m────────────────────────────────────────────────────────\u001b[39m\n",
      "\u001b[1mDelimiter:\u001b[22m \",\"\n",
      "\u001b[31mchr\u001b[39m  (7): ride_id, rideable_type, start_station_name, start_station_id, end_...\n",
      "\u001b[32mdbl\u001b[39m  (4): start_lat, start_lng, end_lat, end_lng\n",
      "\u001b[34mdttm\u001b[39m (2): started_at, ended_at\n",
      "\n",
      "\n",
      "\u001b[36mℹ\u001b[39m Use \u001b[30m\u001b[47m\u001b[30m\u001b[47m`spec()`\u001b[47m\u001b[30m\u001b[49m\u001b[39m to retrieve the full column specification for this data.\n",
      "\u001b[36mℹ\u001b[39m Specify the column types or set \u001b[30m\u001b[47m\u001b[30m\u001b[47m`show_col_types = FALSE`\u001b[47m\u001b[30m\u001b[49m\u001b[39m to quiet this message.\n",
      "\n",
      "\u001b[1m\u001b[1mRows: \u001b[1m\u001b[22m\u001b[34m\u001b[34m804352\u001b[34m\u001b[39m \u001b[1m\u001b[1mColumns: \u001b[1m\u001b[22m\u001b[34m\u001b[34m13\u001b[34m\u001b[39m\n",
      "\n",
      "\u001b[36m──\u001b[39m \u001b[1m\u001b[1mColumn specification\u001b[1m\u001b[22m \u001b[36m────────────────────────────────────────────────────────\u001b[39m\n",
      "\u001b[1mDelimiter:\u001b[22m \",\"\n",
      "\u001b[31mchr\u001b[39m  (7): ride_id, rideable_type, start_station_name, start_station_id, end_...\n",
      "\u001b[32mdbl\u001b[39m  (4): start_lat, start_lng, end_lat, end_lng\n",
      "\u001b[34mdttm\u001b[39m (2): started_at, ended_at\n",
      "\n",
      "\n",
      "\u001b[36mℹ\u001b[39m Use \u001b[30m\u001b[47m\u001b[30m\u001b[47m`spec()`\u001b[47m\u001b[30m\u001b[49m\u001b[39m to retrieve the full column specification for this data.\n",
      "\u001b[36mℹ\u001b[39m Specify the column types or set \u001b[30m\u001b[47m\u001b[30m\u001b[47m`show_col_types = FALSE`\u001b[47m\u001b[30m\u001b[49m\u001b[39m to quiet this message.\n",
      "\n",
      "\u001b[1m\u001b[1mRows: \u001b[1m\u001b[22m\u001b[34m\u001b[34m756147\u001b[34m\u001b[39m \u001b[1m\u001b[1mColumns: \u001b[1m\u001b[22m\u001b[34m\u001b[34m13\u001b[34m\u001b[39m\n",
      "\n",
      "\u001b[36m──\u001b[39m \u001b[1m\u001b[1mColumn specification\u001b[1m\u001b[22m \u001b[36m────────────────────────────────────────────────────────\u001b[39m\n",
      "\u001b[1mDelimiter:\u001b[22m \",\"\n",
      "\u001b[31mchr\u001b[39m  (7): ride_id, rideable_type, start_station_name, start_station_id, end_...\n",
      "\u001b[32mdbl\u001b[39m  (4): start_lat, start_lng, end_lat, end_lng\n",
      "\u001b[34mdttm\u001b[39m (2): started_at, ended_at\n",
      "\n",
      "\n",
      "\u001b[36mℹ\u001b[39m Use \u001b[30m\u001b[47m\u001b[30m\u001b[47m`spec()`\u001b[47m\u001b[30m\u001b[49m\u001b[39m to retrieve the full column specification for this data.\n",
      "\u001b[36mℹ\u001b[39m Specify the column types or set \u001b[30m\u001b[47m\u001b[30m\u001b[47m`show_col_types = FALSE`\u001b[47m\u001b[30m\u001b[49m\u001b[39m to quiet this message.\n",
      "\n",
      "\u001b[1m\u001b[1mRows: \u001b[1m\u001b[22m\u001b[34m\u001b[34m631226\u001b[34m\u001b[39m \u001b[1m\u001b[1mColumns: \u001b[1m\u001b[22m\u001b[34m\u001b[34m13\u001b[34m\u001b[39m\n",
      "\n",
      "\u001b[36m──\u001b[39m \u001b[1m\u001b[1mColumn specification\u001b[1m\u001b[22m \u001b[36m────────────────────────────────────────────────────────\u001b[39m\n",
      "\u001b[1mDelimiter:\u001b[22m \",\"\n",
      "\u001b[31mchr\u001b[39m  (7): ride_id, rideable_type, start_station_name, start_station_id, end_...\n",
      "\u001b[32mdbl\u001b[39m  (4): start_lat, start_lng, end_lat, end_lng\n",
      "\u001b[34mdttm\u001b[39m (2): started_at, ended_at\n",
      "\n",
      "\n",
      "\u001b[36mℹ\u001b[39m Use \u001b[30m\u001b[47m\u001b[30m\u001b[47m`spec()`\u001b[47m\u001b[30m\u001b[49m\u001b[39m to retrieve the full column specification for this data.\n",
      "\u001b[36mℹ\u001b[39m Specify the column types or set \u001b[30m\u001b[47m\u001b[30m\u001b[47m`show_col_types = FALSE`\u001b[47m\u001b[30m\u001b[49m\u001b[39m to quiet this message.\n",
      "\n"
     ]
    },
    {
     "data": {
      "text/html": [
       "<table class=\"dataframe\">\n",
       "<caption>A tibble: 6 × 13</caption>\n",
       "<thead>\n",
       "\t<tr><th scope=col>ride_id</th><th scope=col>rideable_type</th><th scope=col>started_at</th><th scope=col>ended_at</th><th scope=col>start_station_name</th><th scope=col>start_station_id</th><th scope=col>end_station_name</th><th scope=col>end_station_id</th><th scope=col>start_lat</th><th scope=col>start_lng</th><th scope=col>end_lat</th><th scope=col>end_lng</th><th scope=col>member_casual</th></tr>\n",
       "\t<tr><th scope=col>&lt;chr&gt;</th><th scope=col>&lt;chr&gt;</th><th scope=col>&lt;dttm&gt;</th><th scope=col>&lt;dttm&gt;</th><th scope=col>&lt;chr&gt;</th><th scope=col>&lt;chr&gt;</th><th scope=col>&lt;chr&gt;</th><th scope=col>&lt;chr&gt;</th><th scope=col>&lt;dbl&gt;</th><th scope=col>&lt;dbl&gt;</th><th scope=col>&lt;dbl&gt;</th><th scope=col>&lt;dbl&gt;</th><th scope=col>&lt;chr&gt;</th></tr>\n",
       "</thead>\n",
       "<tbody>\n",
       "\t<tr><td>0A1B623926EF4E16</td><td><span style=white-space:pre-wrap>docked_bike  </span></td><td>2021-07-02 14:44:36</td><td>2021-07-02 15:19:58</td><td>Michigan Ave &amp; Washington St</td><td>13001 </td><td><span style=white-space:pre-wrap>Halsted St &amp; North Branch St  </span></td><td>KA1504000117</td><td>41.88398</td><td>-87.62468</td><td>41.89937</td><td>-87.64848</td><td>casual</td></tr>\n",
       "\t<tr><td>B2D5583A5A5E76EE</td><td>classic_bike </td><td>2021-07-07 16:57:42</td><td>2021-07-07 17:16:09</td><td><span style=white-space:pre-wrap>California Ave &amp; Cortez St  </span></td><td>17660 </td><td><span style=white-space:pre-wrap>Wood St &amp; Hubbard St          </span></td><td><span style=white-space:pre-wrap>13432       </span></td><td>41.90036</td><td>-87.69670</td><td>41.88990</td><td>-87.67147</td><td>casual</td></tr>\n",
       "\t<tr><td>6F264597DDBF427A</td><td>classic_bike </td><td>2021-07-25 11:30:55</td><td>2021-07-25 11:48:45</td><td><span style=white-space:pre-wrap>Wabash Ave &amp; 16th St        </span></td><td>SL-012</td><td><span style=white-space:pre-wrap>Rush St &amp; Hubbard St          </span></td><td>KA1503000044</td><td>41.86038</td><td>-87.62581</td><td>41.89017</td><td>-87.62619</td><td>member</td></tr>\n",
       "\t<tr><td>379B58EAB20E8AA5</td><td>classic_bike </td><td>2021-07-08 22:08:30</td><td>2021-07-08 22:23:32</td><td><span style=white-space:pre-wrap>California Ave &amp; Cortez St  </span></td><td>17660 </td><td><span style=white-space:pre-wrap>Carpenter St &amp; Huron St       </span></td><td><span style=white-space:pre-wrap>13196       </span></td><td>41.90036</td><td>-87.69670</td><td>41.89456</td><td>-87.65345</td><td>member</td></tr>\n",
       "\t<tr><td>6615C1E4EB08E8FB</td><td>electric_bike</td><td>2021-07-28 16:08:06</td><td>2021-07-28 16:27:09</td><td><span style=white-space:pre-wrap>California Ave &amp; Cortez St  </span></td><td>17660 </td><td>Elizabeth (May) St &amp; Fulton St</td><td><span style=white-space:pre-wrap>13197       </span></td><td>41.90035</td><td>-87.69668</td><td>41.88659</td><td>-87.65839</td><td>casual</td></tr>\n",
       "\t<tr><td>62DC2B32872F9BA8</td><td>electric_bike</td><td>2021-07-29 17:09:08</td><td>2021-07-29 17:15:00</td><td><span style=white-space:pre-wrap>California Ave &amp; Cortez St  </span></td><td>17660 </td><td>Albany Ave &amp; Bloomingdale Ave </td><td><span style=white-space:pre-wrap>15655       </span></td><td>41.90033</td><td>-87.69674</td><td>41.91389</td><td>-87.70513</td><td>casual</td></tr>\n",
       "</tbody>\n",
       "</table>\n"
      ],
      "text/latex": [
       "A tibble: 6 × 13\n",
       "\\begin{tabular}{lllllllllllll}\n",
       " ride\\_id & rideable\\_type & started\\_at & ended\\_at & start\\_station\\_name & start\\_station\\_id & end\\_station\\_name & end\\_station\\_id & start\\_lat & start\\_lng & end\\_lat & end\\_lng & member\\_casual\\\\\n",
       " <chr> & <chr> & <dttm> & <dttm> & <chr> & <chr> & <chr> & <chr> & <dbl> & <dbl> & <dbl> & <dbl> & <chr>\\\\\n",
       "\\hline\n",
       "\t 0A1B623926EF4E16 & docked\\_bike   & 2021-07-02 14:44:36 & 2021-07-02 15:19:58 & Michigan Ave \\& Washington St & 13001  & Halsted St \\& North Branch St   & KA1504000117 & 41.88398 & -87.62468 & 41.89937 & -87.64848 & casual\\\\\n",
       "\t B2D5583A5A5E76EE & classic\\_bike  & 2021-07-07 16:57:42 & 2021-07-07 17:16:09 & California Ave \\& Cortez St   & 17660  & Wood St \\& Hubbard St           & 13432        & 41.90036 & -87.69670 & 41.88990 & -87.67147 & casual\\\\\n",
       "\t 6F264597DDBF427A & classic\\_bike  & 2021-07-25 11:30:55 & 2021-07-25 11:48:45 & Wabash Ave \\& 16th St         & SL-012 & Rush St \\& Hubbard St           & KA1503000044 & 41.86038 & -87.62581 & 41.89017 & -87.62619 & member\\\\\n",
       "\t 379B58EAB20E8AA5 & classic\\_bike  & 2021-07-08 22:08:30 & 2021-07-08 22:23:32 & California Ave \\& Cortez St   & 17660  & Carpenter St \\& Huron St        & 13196        & 41.90036 & -87.69670 & 41.89456 & -87.65345 & member\\\\\n",
       "\t 6615C1E4EB08E8FB & electric\\_bike & 2021-07-28 16:08:06 & 2021-07-28 16:27:09 & California Ave \\& Cortez St   & 17660  & Elizabeth (May) St \\& Fulton St & 13197        & 41.90035 & -87.69668 & 41.88659 & -87.65839 & casual\\\\\n",
       "\t 62DC2B32872F9BA8 & electric\\_bike & 2021-07-29 17:09:08 & 2021-07-29 17:15:00 & California Ave \\& Cortez St   & 17660  & Albany Ave \\& Bloomingdale Ave  & 15655        & 41.90033 & -87.69674 & 41.91389 & -87.70513 & casual\\\\\n",
       "\\end{tabular}\n"
      ],
      "text/markdown": [
       "\n",
       "A tibble: 6 × 13\n",
       "\n",
       "| ride_id &lt;chr&gt; | rideable_type &lt;chr&gt; | started_at &lt;dttm&gt; | ended_at &lt;dttm&gt; | start_station_name &lt;chr&gt; | start_station_id &lt;chr&gt; | end_station_name &lt;chr&gt; | end_station_id &lt;chr&gt; | start_lat &lt;dbl&gt; | start_lng &lt;dbl&gt; | end_lat &lt;dbl&gt; | end_lng &lt;dbl&gt; | member_casual &lt;chr&gt; |\n",
       "|---|---|---|---|---|---|---|---|---|---|---|---|---|\n",
       "| 0A1B623926EF4E16 | docked_bike   | 2021-07-02 14:44:36 | 2021-07-02 15:19:58 | Michigan Ave &amp; Washington St | 13001  | Halsted St &amp; North Branch St   | KA1504000117 | 41.88398 | -87.62468 | 41.89937 | -87.64848 | casual |\n",
       "| B2D5583A5A5E76EE | classic_bike  | 2021-07-07 16:57:42 | 2021-07-07 17:16:09 | California Ave &amp; Cortez St   | 17660  | Wood St &amp; Hubbard St           | 13432        | 41.90036 | -87.69670 | 41.88990 | -87.67147 | casual |\n",
       "| 6F264597DDBF427A | classic_bike  | 2021-07-25 11:30:55 | 2021-07-25 11:48:45 | Wabash Ave &amp; 16th St         | SL-012 | Rush St &amp; Hubbard St           | KA1503000044 | 41.86038 | -87.62581 | 41.89017 | -87.62619 | member |\n",
       "| 379B58EAB20E8AA5 | classic_bike  | 2021-07-08 22:08:30 | 2021-07-08 22:23:32 | California Ave &amp; Cortez St   | 17660  | Carpenter St &amp; Huron St        | 13196        | 41.90036 | -87.69670 | 41.89456 | -87.65345 | member |\n",
       "| 6615C1E4EB08E8FB | electric_bike | 2021-07-28 16:08:06 | 2021-07-28 16:27:09 | California Ave &amp; Cortez St   | 17660  | Elizabeth (May) St &amp; Fulton St | 13197        | 41.90035 | -87.69668 | 41.88659 | -87.65839 | casual |\n",
       "| 62DC2B32872F9BA8 | electric_bike | 2021-07-29 17:09:08 | 2021-07-29 17:15:00 | California Ave &amp; Cortez St   | 17660  | Albany Ave &amp; Bloomingdale Ave  | 15655        | 41.90033 | -87.69674 | 41.91389 | -87.70513 | casual |\n",
       "\n"
      ],
      "text/plain": [
       "  ride_id          rideable_type started_at          ended_at           \n",
       "1 0A1B623926EF4E16 docked_bike   2021-07-02 14:44:36 2021-07-02 15:19:58\n",
       "2 B2D5583A5A5E76EE classic_bike  2021-07-07 16:57:42 2021-07-07 17:16:09\n",
       "3 6F264597DDBF427A classic_bike  2021-07-25 11:30:55 2021-07-25 11:48:45\n",
       "4 379B58EAB20E8AA5 classic_bike  2021-07-08 22:08:30 2021-07-08 22:23:32\n",
       "5 6615C1E4EB08E8FB electric_bike 2021-07-28 16:08:06 2021-07-28 16:27:09\n",
       "6 62DC2B32872F9BA8 electric_bike 2021-07-29 17:09:08 2021-07-29 17:15:00\n",
       "  start_station_name           start_station_id end_station_name              \n",
       "1 Michigan Ave & Washington St 13001            Halsted St & North Branch St  \n",
       "2 California Ave & Cortez St   17660            Wood St & Hubbard St          \n",
       "3 Wabash Ave & 16th St         SL-012           Rush St & Hubbard St          \n",
       "4 California Ave & Cortez St   17660            Carpenter St & Huron St       \n",
       "5 California Ave & Cortez St   17660            Elizabeth (May) St & Fulton St\n",
       "6 California Ave & Cortez St   17660            Albany Ave & Bloomingdale Ave \n",
       "  end_station_id start_lat start_lng end_lat  end_lng   member_casual\n",
       "1 KA1504000117   41.88398  -87.62468 41.89937 -87.64848 casual       \n",
       "2 13432          41.90036  -87.69670 41.88990 -87.67147 casual       \n",
       "3 KA1503000044   41.86038  -87.62581 41.89017 -87.62619 member       \n",
       "4 13196          41.90036  -87.69670 41.89456 -87.65345 member       \n",
       "5 13197          41.90035  -87.69668 41.88659 -87.65839 casual       \n",
       "6 15655          41.90033  -87.69674 41.91389 -87.70513 casual       "
      ]
     },
     "metadata": {},
     "output_type": "display_data"
    }
   ],
   "source": [
    "# reading the four files one by one\n",
    "tripdata_202107 <- read_csv(\"../input/divy-bike-share-data/202107-divvy-tripdata.csv\")\n",
    "tripdata_202108 <- read_csv(\"../input/divy-bike-share-data/202108-divvy-tripdata.csv\")\n",
    "\n",
    "tripdata_202109 <- read_csv(\"../input/divy-bike-share-data/202109-divvy-tripdata.csv\")\n",
    "tripdata_202110 <- read_csv(\"../input/divy-bike-share-data/202110-divvy-tripdata.csv\")\n",
    "\n",
    "# now combining all the four files inot one for further analysis by using bind_rows\n",
    "all_trips <- bind_rows(tripdata_202107,tripdata_202108,tripdata_202109,tripdata_202110)\n",
    "head(all_trips)"
   ]
  },
  {
   "cell_type": "markdown",
   "id": "56380db0",
   "metadata": {
    "papermill": {
     "duration": 0.074804,
     "end_time": "2021-12-03T11:08:05.794345",
     "exception": false,
     "start_time": "2021-12-03T11:08:05.719541",
     "status": "completed"
    },
    "tags": []
   },
   "source": [
    "## Sampling\n",
    "\n",
    "Even though we only load 4 months of data but still, this is a big dataset containing around 3 millions records, so in order to do the analysis, easily and effeciently we will create a random sample from all the dataset and than we will use that  for our analysis in this capstone project.\n",
    "\n",
    "The sample will be taken randomly from the whole population with.\n",
    "\n",
    "  * Population Size: 3014135\n",
    "  * Confidence level: 99.9%\n",
    "  * Margine Error : 0.2\n",
    "  * Sample Size: 600000"
   ]
  },
  {
   "cell_type": "code",
   "execution_count": 4,
   "id": "c38fb80c",
   "metadata": {
    "execution": {
     "iopub.execute_input": "2021-12-03T11:08:05.950918Z",
     "iopub.status.busy": "2021-12-03T11:08:05.949361Z",
     "iopub.status.idle": "2021-12-03T11:08:07.444211Z",
     "shell.execute_reply": "2021-12-03T11:08:07.442556Z"
    },
    "papermill": {
     "duration": 1.575128,
     "end_time": "2021-12-03T11:08:07.444380",
     "exception": false,
     "start_time": "2021-12-03T11:08:05.869252",
     "status": "completed"
    },
    "tags": []
   },
   "outputs": [
    {
     "data": {
      "text/html": [
       "<style>\n",
       ".list-inline {list-style: none; margin:0; padding: 0}\n",
       ".list-inline>li {display: inline-block}\n",
       ".list-inline>li:not(:last-child)::after {content: \"\\00b7\"; padding: 0 .5ex}\n",
       "</style>\n",
       "<ol class=list-inline><li>3014135</li><li>13</li></ol>\n"
      ],
      "text/latex": [
       "\\begin{enumerate*}\n",
       "\\item 3014135\n",
       "\\item 13\n",
       "\\end{enumerate*}\n"
      ],
      "text/markdown": [
       "1. 3014135\n",
       "2. 13\n",
       "\n",
       "\n"
      ],
      "text/plain": [
       "[1] 3014135      13"
      ]
     },
     "metadata": {},
     "output_type": "display_data"
    },
    {
     "data": {
      "text/html": [
       "<style>\n",
       ".list-inline {list-style: none; margin:0; padding: 0}\n",
       ".list-inline>li {display: inline-block}\n",
       ".list-inline>li:not(:last-child)::after {content: \"\\00b7\"; padding: 0 .5ex}\n",
       "</style>\n",
       "<ol class=list-inline><li>600000</li><li>13</li></ol>\n"
      ],
      "text/latex": [
       "\\begin{enumerate*}\n",
       "\\item 600000\n",
       "\\item 13\n",
       "\\end{enumerate*}\n"
      ],
      "text/markdown": [
       "1. 600000\n",
       "2. 13\n",
       "\n",
       "\n"
      ],
      "text/plain": [
       "[1] 600000     13"
      ]
     },
     "metadata": {},
     "output_type": "display_data"
    }
   ],
   "source": [
    "dim(all_trips)\n",
    "sample_data<- sample_n(all_trips, 600000, replace = F)\n",
    "dim(sample_data)"
   ]
  },
  {
   "cell_type": "markdown",
   "id": "8d24a68b",
   "metadata": {
    "papermill": {
     "duration": 0.080691,
     "end_time": "2021-12-03T11:08:07.604785",
     "exception": false,
     "start_time": "2021-12-03T11:08:07.524094",
     "status": "completed"
    },
    "tags": []
   },
   "source": [
    "## Cleaning for Analysis\n",
    "\n",
    "We will add one extra column ride_length to calculate the total lenght of each ride, along with this we can add few others column to calculate Date, Year, Month, Day and Day of the week for each ride.\n",
    "\n",
    "These columns will help us in future analysis\n",
    "\n",
    "we wil add the new columns to sample_data as below"
   ]
  },
  {
   "cell_type": "code",
   "execution_count": 5,
   "id": "e7c03373",
   "metadata": {
    "execution": {
     "iopub.execute_input": "2021-12-03T11:08:07.768645Z",
     "iopub.status.busy": "2021-12-03T11:08:07.766468Z",
     "iopub.status.idle": "2021-12-03T11:08:09.687309Z",
     "shell.execute_reply": "2021-12-03T11:08:09.686254Z"
    },
    "papermill": {
     "duration": 2.003021,
     "end_time": "2021-12-03T11:08:09.687472",
     "exception": false,
     "start_time": "2021-12-03T11:08:07.684451",
     "status": "completed"
    },
    "tags": []
   },
   "outputs": [],
   "source": [
    "sample_data$date <- as.Date(sample_data$started_at)\n",
    "sample_data$year <- format(as.Date(sample_data$date), \"%Y\")\n",
    "sample_data$month <- format(as.Date(sample_data$date), \"%m\")\n",
    "sample_data$day <- format(as.Date(sample_data$date), \"%d\")\n",
    "sample_data$week_days <- weekdays(as.Date(sample_data$started_at))\n",
    "sample_data <- sample_data %>%\n",
    "  mutate(ride_length = as.POSIXct(ended_at) - as.POSIXct(started_at))"
   ]
  },
  {
   "cell_type": "markdown",
   "id": "f39d784f",
   "metadata": {
    "papermill": {
     "duration": 0.078708,
     "end_time": "2021-12-03T11:08:09.847197",
     "exception": false,
     "start_time": "2021-12-03T11:08:09.768489",
     "status": "completed"
    },
    "tags": []
   },
   "source": [
    "We added few columns which we needed, now we will remove few columns that we don't need for our analysis and these columns are start_lat, start_lang, end_lat and end_lang."
   ]
  },
  {
   "cell_type": "code",
   "execution_count": 6,
   "id": "9bab917b",
   "metadata": {
    "execution": {
     "iopub.execute_input": "2021-12-03T11:08:10.014141Z",
     "iopub.status.busy": "2021-12-03T11:08:10.012511Z",
     "iopub.status.idle": "2021-12-03T11:08:10.045033Z",
     "shell.execute_reply": "2021-12-03T11:08:10.043402Z"
    },
    "papermill": {
     "duration": 0.115877,
     "end_time": "2021-12-03T11:08:10.045190",
     "exception": false,
     "start_time": "2021-12-03T11:08:09.929313",
     "status": "completed"
    },
    "tags": []
   },
   "outputs": [
    {
     "data": {
      "text/html": [
       "<style>\n",
       ".list-inline {list-style: none; margin:0; padding: 0}\n",
       ".list-inline>li {display: inline-block}\n",
       ".list-inline>li:not(:last-child)::after {content: \"\\00b7\"; padding: 0 .5ex}\n",
       "</style>\n",
       "<ol class=list-inline><li>'ride_id'</li><li>'rideable_type'</li><li>'started_at'</li><li>'ended_at'</li><li>'start_station_name'</li><li>'start_station_id'</li><li>'end_station_name'</li><li>'end_station_id'</li><li>'member_casual'</li><li>'date'</li><li>'year'</li><li>'month'</li><li>'day'</li><li>'week_days'</li><li>'ride_length'</li></ol>\n"
      ],
      "text/latex": [
       "\\begin{enumerate*}\n",
       "\\item 'ride\\_id'\n",
       "\\item 'rideable\\_type'\n",
       "\\item 'started\\_at'\n",
       "\\item 'ended\\_at'\n",
       "\\item 'start\\_station\\_name'\n",
       "\\item 'start\\_station\\_id'\n",
       "\\item 'end\\_station\\_name'\n",
       "\\item 'end\\_station\\_id'\n",
       "\\item 'member\\_casual'\n",
       "\\item 'date'\n",
       "\\item 'year'\n",
       "\\item 'month'\n",
       "\\item 'day'\n",
       "\\item 'week\\_days'\n",
       "\\item 'ride\\_length'\n",
       "\\end{enumerate*}\n"
      ],
      "text/markdown": [
       "1. 'ride_id'\n",
       "2. 'rideable_type'\n",
       "3. 'started_at'\n",
       "4. 'ended_at'\n",
       "5. 'start_station_name'\n",
       "6. 'start_station_id'\n",
       "7. 'end_station_name'\n",
       "8. 'end_station_id'\n",
       "9. 'member_casual'\n",
       "10. 'date'\n",
       "11. 'year'\n",
       "12. 'month'\n",
       "13. 'day'\n",
       "14. 'week_days'\n",
       "15. 'ride_length'\n",
       "\n",
       "\n"
      ],
      "text/plain": [
       " [1] \"ride_id\"            \"rideable_type\"      \"started_at\"        \n",
       " [4] \"ended_at\"           \"start_station_name\" \"start_station_id\"  \n",
       " [7] \"end_station_name\"   \"end_station_id\"     \"member_casual\"     \n",
       "[10] \"date\"               \"year\"               \"month\"             \n",
       "[13] \"day\"                \"week_days\"          \"ride_length\"       "
      ]
     },
     "metadata": {},
     "output_type": "display_data"
    }
   ],
   "source": [
    "sample_data <- sample_data %>%\n",
    "  select(-c(start_lat,start_lng, end_lat, end_lng))\n",
    "# below we can use colnames function to see if columns are removed or not\n",
    "colnames(sample_data)"
   ]
  },
  {
   "cell_type": "markdown",
   "id": "176256f0",
   "metadata": {
    "papermill": {
     "duration": 0.082579,
     "end_time": "2021-12-03T11:08:10.209969",
     "exception": false,
     "start_time": "2021-12-03T11:08:10.127390",
     "status": "completed"
    },
    "tags": []
   },
   "source": [
    "Now, that we got rid of the unneccessary columns and few needed one we will have look at our dataset data to by using head function and summary we can already see that we use colnames to look at the columns of our data."
   ]
  },
  {
   "cell_type": "code",
   "execution_count": 7,
   "id": "812cdb66",
   "metadata": {
    "execution": {
     "iopub.execute_input": "2021-12-03T11:08:10.376199Z",
     "iopub.status.busy": "2021-12-03T11:08:10.374693Z",
     "iopub.status.idle": "2021-12-03T11:08:10.555611Z",
     "shell.execute_reply": "2021-12-03T11:08:10.554209Z"
    },
    "papermill": {
     "duration": 0.26507,
     "end_time": "2021-12-03T11:08:10.555741",
     "exception": false,
     "start_time": "2021-12-03T11:08:10.290671",
     "status": "completed"
    },
    "tags": []
   },
   "outputs": [
    {
     "data": {
      "text/html": [
       "<style>\n",
       ".list-inline {list-style: none; margin:0; padding: 0}\n",
       ".list-inline>li {display: inline-block}\n",
       ".list-inline>li:not(:last-child)::after {content: \"\\00b7\"; padding: 0 .5ex}\n",
       "</style>\n",
       "<ol class=list-inline><li>600000</li><li>15</li></ol>\n"
      ],
      "text/latex": [
       "\\begin{enumerate*}\n",
       "\\item 600000\n",
       "\\item 15\n",
       "\\end{enumerate*}\n"
      ],
      "text/markdown": [
       "1. 600000\n",
       "2. 15\n",
       "\n",
       "\n"
      ],
      "text/plain": [
       "[1] 600000     15"
      ]
     },
     "metadata": {},
     "output_type": "display_data"
    },
    {
     "data": {
      "text/html": [
       "<table class=\"dataframe\">\n",
       "<caption>A tibble: 6 × 15</caption>\n",
       "<thead>\n",
       "\t<tr><th scope=col>ride_id</th><th scope=col>rideable_type</th><th scope=col>started_at</th><th scope=col>ended_at</th><th scope=col>start_station_name</th><th scope=col>start_station_id</th><th scope=col>end_station_name</th><th scope=col>end_station_id</th><th scope=col>member_casual</th><th scope=col>date</th><th scope=col>year</th><th scope=col>month</th><th scope=col>day</th><th scope=col>week_days</th><th scope=col>ride_length</th></tr>\n",
       "\t<tr><th scope=col>&lt;chr&gt;</th><th scope=col>&lt;chr&gt;</th><th scope=col>&lt;dttm&gt;</th><th scope=col>&lt;dttm&gt;</th><th scope=col>&lt;chr&gt;</th><th scope=col>&lt;chr&gt;</th><th scope=col>&lt;chr&gt;</th><th scope=col>&lt;chr&gt;</th><th scope=col>&lt;chr&gt;</th><th scope=col>&lt;date&gt;</th><th scope=col>&lt;chr&gt;</th><th scope=col>&lt;chr&gt;</th><th scope=col>&lt;chr&gt;</th><th scope=col>&lt;chr&gt;</th><th scope=col>&lt;drtn&gt;</th></tr>\n",
       "</thead>\n",
       "<tbody>\n",
       "\t<tr><td>7B3D37F6A1C9B214</td><td>classic_bike </td><td>2021-08-20 15:17:16</td><td>2021-08-20 15:25:04</td><td><span style=white-space:pre-wrap>Kimbark Ave &amp; 53rd St             </span></td><td>TA1309000037</td><td><span style=white-space:pre-wrap>Kimbark Ave &amp; 53rd St      </span></td><td>TA1309000037</td><td>casual</td><td>2021-08-20</td><td>2021</td><td>08</td><td>20</td><td><span style=white-space:pre-wrap>Friday  </span></td><td> 468 secs</td></tr>\n",
       "\t<tr><td>8EF266D2A9BA6678</td><td>classic_bike </td><td>2021-08-09 12:31:56</td><td>2021-08-09 12:49:35</td><td><span style=white-space:pre-wrap>Michigan Ave &amp; Madison St         </span></td><td><span style=white-space:pre-wrap>13036       </span></td><td><span style=white-space:pre-wrap>Wabash Ave &amp; Roosevelt Rd  </span></td><td>TA1305000002</td><td>member</td><td>2021-08-09</td><td>2021</td><td>08</td><td>09</td><td><span style=white-space:pre-wrap>Monday  </span></td><td>1059 secs</td></tr>\n",
       "\t<tr><td>8D80ECF05F0CBC0C</td><td>classic_bike </td><td>2021-09-12 11:24:54</td><td>2021-09-12 11:55:15</td><td>DuSable Lake Shore Dr &amp; North Blvd</td><td><span style=white-space:pre-wrap>LF-005      </span></td><td><span style=white-space:pre-wrap>Streeter Dr &amp; Grand Ave    </span></td><td><span style=white-space:pre-wrap>13022       </span></td><td>casual</td><td>2021-09-12</td><td>2021</td><td>09</td><td>12</td><td><span style=white-space:pre-wrap>Sunday  </span></td><td>1821 secs</td></tr>\n",
       "\t<tr><td>8FC2E31CE15883A3</td><td>electric_bike</td><td>2021-08-03 12:18:13</td><td>2021-08-03 12:32:25</td><td><span style=white-space:pre-wrap>Clark St &amp; Winnemac Ave           </span></td><td>TA1309000035</td><td><span style=white-space:pre-wrap>NA                         </span></td><td><span style=white-space:pre-wrap>NA          </span></td><td>casual</td><td>2021-08-03</td><td>2021</td><td>08</td><td>03</td><td>Tuesday </td><td> 852 secs</td></tr>\n",
       "\t<tr><td>D614D31AE238C0D9</td><td>classic_bike </td><td>2021-08-12 21:44:32</td><td>2021-08-12 22:06:22</td><td><span style=white-space:pre-wrap>Cannon Dr &amp; Fullerton Ave         </span></td><td><span style=white-space:pre-wrap>13124       </span></td><td>Sheffield Ave &amp; Webster Ave</td><td>TA1309000033</td><td>casual</td><td>2021-08-12</td><td>2021</td><td>08</td><td>12</td><td>Thursday</td><td>1310 secs</td></tr>\n",
       "\t<tr><td>C379D5FFD7089FB6</td><td>classic_bike </td><td>2021-07-30 14:10:55</td><td>2021-07-30 14:16:29</td><td><span style=white-space:pre-wrap>Racine Ave &amp; Fullerton Ave        </span></td><td>TA1306000026</td><td><span style=white-space:pre-wrap>Larrabee St &amp; Webster Ave  </span></td><td><span style=white-space:pre-wrap>13193       </span></td><td>member</td><td>2021-07-30</td><td>2021</td><td>07</td><td>30</td><td><span style=white-space:pre-wrap>Friday  </span></td><td> 334 secs</td></tr>\n",
       "</tbody>\n",
       "</table>\n"
      ],
      "text/latex": [
       "A tibble: 6 × 15\n",
       "\\begin{tabular}{lllllllllllllll}\n",
       " ride\\_id & rideable\\_type & started\\_at & ended\\_at & start\\_station\\_name & start\\_station\\_id & end\\_station\\_name & end\\_station\\_id & member\\_casual & date & year & month & day & week\\_days & ride\\_length\\\\\n",
       " <chr> & <chr> & <dttm> & <dttm> & <chr> & <chr> & <chr> & <chr> & <chr> & <date> & <chr> & <chr> & <chr> & <chr> & <drtn>\\\\\n",
       "\\hline\n",
       "\t 7B3D37F6A1C9B214 & classic\\_bike  & 2021-08-20 15:17:16 & 2021-08-20 15:25:04 & Kimbark Ave \\& 53rd St              & TA1309000037 & Kimbark Ave \\& 53rd St       & TA1309000037 & casual & 2021-08-20 & 2021 & 08 & 20 & Friday   &  468 secs\\\\\n",
       "\t 8EF266D2A9BA6678 & classic\\_bike  & 2021-08-09 12:31:56 & 2021-08-09 12:49:35 & Michigan Ave \\& Madison St          & 13036        & Wabash Ave \\& Roosevelt Rd   & TA1305000002 & member & 2021-08-09 & 2021 & 08 & 09 & Monday   & 1059 secs\\\\\n",
       "\t 8D80ECF05F0CBC0C & classic\\_bike  & 2021-09-12 11:24:54 & 2021-09-12 11:55:15 & DuSable Lake Shore Dr \\& North Blvd & LF-005       & Streeter Dr \\& Grand Ave     & 13022        & casual & 2021-09-12 & 2021 & 09 & 12 & Sunday   & 1821 secs\\\\\n",
       "\t 8FC2E31CE15883A3 & electric\\_bike & 2021-08-03 12:18:13 & 2021-08-03 12:32:25 & Clark St \\& Winnemac Ave            & TA1309000035 & NA                          & NA           & casual & 2021-08-03 & 2021 & 08 & 03 & Tuesday  &  852 secs\\\\\n",
       "\t D614D31AE238C0D9 & classic\\_bike  & 2021-08-12 21:44:32 & 2021-08-12 22:06:22 & Cannon Dr \\& Fullerton Ave          & 13124        & Sheffield Ave \\& Webster Ave & TA1309000033 & casual & 2021-08-12 & 2021 & 08 & 12 & Thursday & 1310 secs\\\\\n",
       "\t C379D5FFD7089FB6 & classic\\_bike  & 2021-07-30 14:10:55 & 2021-07-30 14:16:29 & Racine Ave \\& Fullerton Ave         & TA1306000026 & Larrabee St \\& Webster Ave   & 13193        & member & 2021-07-30 & 2021 & 07 & 30 & Friday   &  334 secs\\\\\n",
       "\\end{tabular}\n"
      ],
      "text/markdown": [
       "\n",
       "A tibble: 6 × 15\n",
       "\n",
       "| ride_id &lt;chr&gt; | rideable_type &lt;chr&gt; | started_at &lt;dttm&gt; | ended_at &lt;dttm&gt; | start_station_name &lt;chr&gt; | start_station_id &lt;chr&gt; | end_station_name &lt;chr&gt; | end_station_id &lt;chr&gt; | member_casual &lt;chr&gt; | date &lt;date&gt; | year &lt;chr&gt; | month &lt;chr&gt; | day &lt;chr&gt; | week_days &lt;chr&gt; | ride_length &lt;drtn&gt; |\n",
       "|---|---|---|---|---|---|---|---|---|---|---|---|---|---|---|\n",
       "| 7B3D37F6A1C9B214 | classic_bike  | 2021-08-20 15:17:16 | 2021-08-20 15:25:04 | Kimbark Ave &amp; 53rd St              | TA1309000037 | Kimbark Ave &amp; 53rd St       | TA1309000037 | casual | 2021-08-20 | 2021 | 08 | 20 | Friday   |  468 secs |\n",
       "| 8EF266D2A9BA6678 | classic_bike  | 2021-08-09 12:31:56 | 2021-08-09 12:49:35 | Michigan Ave &amp; Madison St          | 13036        | Wabash Ave &amp; Roosevelt Rd   | TA1305000002 | member | 2021-08-09 | 2021 | 08 | 09 | Monday   | 1059 secs |\n",
       "| 8D80ECF05F0CBC0C | classic_bike  | 2021-09-12 11:24:54 | 2021-09-12 11:55:15 | DuSable Lake Shore Dr &amp; North Blvd | LF-005       | Streeter Dr &amp; Grand Ave     | 13022        | casual | 2021-09-12 | 2021 | 09 | 12 | Sunday   | 1821 secs |\n",
       "| 8FC2E31CE15883A3 | electric_bike | 2021-08-03 12:18:13 | 2021-08-03 12:32:25 | Clark St &amp; Winnemac Ave            | TA1309000035 | NA                          | NA           | casual | 2021-08-03 | 2021 | 08 | 03 | Tuesday  |  852 secs |\n",
       "| D614D31AE238C0D9 | classic_bike  | 2021-08-12 21:44:32 | 2021-08-12 22:06:22 | Cannon Dr &amp; Fullerton Ave          | 13124        | Sheffield Ave &amp; Webster Ave | TA1309000033 | casual | 2021-08-12 | 2021 | 08 | 12 | Thursday | 1310 secs |\n",
       "| C379D5FFD7089FB6 | classic_bike  | 2021-07-30 14:10:55 | 2021-07-30 14:16:29 | Racine Ave &amp; Fullerton Ave         | TA1306000026 | Larrabee St &amp; Webster Ave   | 13193        | member | 2021-07-30 | 2021 | 07 | 30 | Friday   |  334 secs |\n",
       "\n"
      ],
      "text/plain": [
       "  ride_id          rideable_type started_at          ended_at           \n",
       "1 7B3D37F6A1C9B214 classic_bike  2021-08-20 15:17:16 2021-08-20 15:25:04\n",
       "2 8EF266D2A9BA6678 classic_bike  2021-08-09 12:31:56 2021-08-09 12:49:35\n",
       "3 8D80ECF05F0CBC0C classic_bike  2021-09-12 11:24:54 2021-09-12 11:55:15\n",
       "4 8FC2E31CE15883A3 electric_bike 2021-08-03 12:18:13 2021-08-03 12:32:25\n",
       "5 D614D31AE238C0D9 classic_bike  2021-08-12 21:44:32 2021-08-12 22:06:22\n",
       "6 C379D5FFD7089FB6 classic_bike  2021-07-30 14:10:55 2021-07-30 14:16:29\n",
       "  start_station_name                 start_station_id\n",
       "1 Kimbark Ave & 53rd St              TA1309000037    \n",
       "2 Michigan Ave & Madison St          13036           \n",
       "3 DuSable Lake Shore Dr & North Blvd LF-005          \n",
       "4 Clark St & Winnemac Ave            TA1309000035    \n",
       "5 Cannon Dr & Fullerton Ave          13124           \n",
       "6 Racine Ave & Fullerton Ave         TA1306000026    \n",
       "  end_station_name            end_station_id member_casual date       year\n",
       "1 Kimbark Ave & 53rd St       TA1309000037   casual        2021-08-20 2021\n",
       "2 Wabash Ave & Roosevelt Rd   TA1305000002   member        2021-08-09 2021\n",
       "3 Streeter Dr & Grand Ave     13022          casual        2021-09-12 2021\n",
       "4 NA                          NA             casual        2021-08-03 2021\n",
       "5 Sheffield Ave & Webster Ave TA1309000033   casual        2021-08-12 2021\n",
       "6 Larrabee St & Webster Ave   13193          member        2021-07-30 2021\n",
       "  month day week_days ride_length\n",
       "1 08    20  Friday     468 secs  \n",
       "2 08    09  Monday    1059 secs  \n",
       "3 09    12  Sunday    1821 secs  \n",
       "4 08    03  Tuesday    852 secs  \n",
       "5 08    12  Thursday  1310 secs  \n",
       "6 07    30  Friday     334 secs  "
      ]
     },
     "metadata": {},
     "output_type": "display_data"
    },
    {
     "data": {
      "text/plain": [
       "   ride_id          rideable_type        started_at                 \n",
       " Length:600000      Length:600000      Min.   :2021-07-01 00:02:16  \n",
       " Class :character   Class :character   1st Qu.:2021-07-29 21:52:59  \n",
       " Mode  :character   Mode  :character   Median :2021-08-27 12:04:41  \n",
       "                                       Mean   :2021-08-28 05:53:29  \n",
       "                                       3rd Qu.:2021-09-25 19:06:32  \n",
       "                                       Max.   :2021-10-31 23:56:41  \n",
       "    ended_at                   start_station_name start_station_id  \n",
       " Min.   :2021-07-01 00:07:05   Length:600000      Length:600000     \n",
       " 1st Qu.:2021-07-29 22:12:03   Class :character   Class :character  \n",
       " Median :2021-08-27 12:27:22   Mode  :character   Mode  :character  \n",
       " Mean   :2021-08-28 06:15:12                                        \n",
       " 3rd Qu.:2021-09-25 19:24:25                                        \n",
       " Max.   :2021-11-01 18:20:51                                        \n",
       " end_station_name   end_station_id     member_casual           date           \n",
       " Length:600000      Length:600000      Length:600000      Min.   :2021-07-01  \n",
       " Class :character   Class :character   Class :character   1st Qu.:2021-07-29  \n",
       " Mode  :character   Mode  :character   Mode  :character   Median :2021-08-27  \n",
       "                                                          Mean   :2021-08-27  \n",
       "                                                          3rd Qu.:2021-09-25  \n",
       "                                                          Max.   :2021-10-31  \n",
       "     year              month               day             week_days        \n",
       " Length:600000      Length:600000      Length:600000      Length:600000     \n",
       " Class :character   Class :character   Class :character   Class :character  \n",
       " Mode  :character   Mode  :character   Mode  :character   Mode  :character  \n",
       "                                                                            \n",
       "                                                                            \n",
       "                                                                            \n",
       " ride_length      \n",
       " Length:600000    \n",
       " Class :difftime  \n",
       " Mode  :numeric   \n",
       "                  \n",
       "                  \n",
       "                  "
      ]
     },
     "metadata": {},
     "output_type": "display_data"
    }
   ],
   "source": [
    "# we will use dim to see the no of rows and columns\n",
    "dim(sample_data)\n",
    "# head function prints the data of starting 6 rows\n",
    "head(sample_data)\n",
    "# summary function gives us the summary of our dataset\n",
    "summary(sample_data)"
   ]
  },
  {
   "cell_type": "markdown",
   "id": "5cd2df5f",
   "metadata": {
    "papermill": {
     "duration": 0.086435,
     "end_time": "2021-12-03T11:08:10.727064",
     "exception": false,
     "start_time": "2021-12-03T11:08:10.640629",
     "status": "completed"
    },
    "tags": []
   },
   "source": [
    "## Checking for Errors\n",
    "As we calculated the ride lenght by subtracting start date from end date, so, by looking at that column using sorting we can clearly see that there are negatives values, which does not make sense, so we have to remove them by using filtering technique in Rstudio."
   ]
  },
  {
   "cell_type": "code",
   "execution_count": 8,
   "id": "b1305291",
   "metadata": {
    "execution": {
     "iopub.execute_input": "2021-12-03T11:08:10.901403Z",
     "iopub.status.busy": "2021-12-03T11:08:10.899855Z",
     "iopub.status.idle": "2021-12-03T11:08:11.011612Z",
     "shell.execute_reply": "2021-12-03T11:08:11.010182Z"
    },
    "papermill": {
     "duration": 0.199996,
     "end_time": "2021-12-03T11:08:11.011751",
     "exception": false,
     "start_time": "2021-12-03T11:08:10.811755",
     "status": "completed"
    },
    "tags": []
   },
   "outputs": [
    {
     "data": {
      "text/html": [
       "<style>\n",
       ".list-inline {list-style: none; margin:0; padding: 0}\n",
       ".list-inline>li {display: inline-block}\n",
       ".list-inline>li:not(:last-child)::after {content: \"\\00b7\"; padding: 0 .5ex}\n",
       "</style>\n",
       "<ol class=list-inline><li>600000</li><li>15</li></ol>\n"
      ],
      "text/latex": [
       "\\begin{enumerate*}\n",
       "\\item 600000\n",
       "\\item 15\n",
       "\\end{enumerate*}\n"
      ],
      "text/markdown": [
       "1. 600000\n",
       "2. 15\n",
       "\n",
       "\n"
      ],
      "text/plain": [
       "[1] 600000     15"
      ]
     },
     "metadata": {},
     "output_type": "display_data"
    },
    {
     "data": {
      "text/html": [
       "<style>\n",
       ".list-inline {list-style: none; margin:0; padding: 0}\n",
       ".list-inline>li {display: inline-block}\n",
       ".list-inline>li:not(:last-child)::after {content: \"\\00b7\"; padding: 0 .5ex}\n",
       "</style>\n",
       "<ol class=list-inline><li>599927</li><li>15</li></ol>\n"
      ],
      "text/latex": [
       "\\begin{enumerate*}\n",
       "\\item 599927\n",
       "\\item 15\n",
       "\\end{enumerate*}\n"
      ],
      "text/markdown": [
       "1. 599927\n",
       "2. 15\n",
       "\n",
       "\n"
      ],
      "text/plain": [
       "[1] 599927     15"
      ]
     },
     "metadata": {},
     "output_type": "display_data"
    }
   ],
   "source": [
    "dim(sample_data)\n",
    "sample_data <- sample_data %>%\n",
    "  filter(ride_length>0)\n",
    "dim(sample_data)"
   ]
  },
  {
   "cell_type": "markdown",
   "id": "77057c85",
   "metadata": {
    "papermill": {
     "duration": 0.088279,
     "end_time": "2021-12-03T11:08:11.190706",
     "exception": false,
     "start_time": "2021-12-03T11:08:11.102427",
     "status": "completed"
    },
    "tags": []
   },
   "source": [
    "so, we can clearly see that there were some negative values which we removed from our dataset using filter function in Rstudio.\n",
    "\n",
    "## Remove Duplicates\n",
    "Now, we will remove any duplicated records that are present in our sammple_data and also will clean the column names"
   ]
  },
  {
   "cell_type": "code",
   "execution_count": 9,
   "id": "d6c5cf58",
   "metadata": {
    "execution": {
     "iopub.execute_input": "2021-12-03T11:08:11.378734Z",
     "iopub.status.busy": "2021-12-03T11:08:11.376741Z",
     "iopub.status.idle": "2021-12-03T11:08:41.678061Z",
     "shell.execute_reply": "2021-12-03T11:08:41.678537Z"
    },
    "papermill": {
     "duration": 30.398696,
     "end_time": "2021-12-03T11:08:41.678701",
     "exception": false,
     "start_time": "2021-12-03T11:08:11.280005",
     "status": "completed"
    },
    "tags": []
   },
   "outputs": [
    {
     "data": {
      "text/html": [
       "<style>\n",
       ".list-inline {list-style: none; margin:0; padding: 0}\n",
       ".list-inline>li {display: inline-block}\n",
       ".list-inline>li:not(:last-child)::after {content: \"\\00b7\"; padding: 0 .5ex}\n",
       "</style>\n",
       "<ol class=list-inline><li>599927</li><li>15</li></ol>\n"
      ],
      "text/latex": [
       "\\begin{enumerate*}\n",
       "\\item 599927\n",
       "\\item 15\n",
       "\\end{enumerate*}\n"
      ],
      "text/markdown": [
       "1. 599927\n",
       "2. 15\n",
       "\n",
       "\n"
      ],
      "text/plain": [
       "[1] 599927     15"
      ]
     },
     "metadata": {},
     "output_type": "display_data"
    },
    {
     "data": {
      "text/html": [
       "<style>\n",
       ".list-inline {list-style: none; margin:0; padding: 0}\n",
       ".list-inline>li {display: inline-block}\n",
       ".list-inline>li:not(:last-child)::after {content: \"\\00b7\"; padding: 0 .5ex}\n",
       "</style>\n",
       "<ol class=list-inline><li>599927</li><li>15</li></ol>\n"
      ],
      "text/latex": [
       "\\begin{enumerate*}\n",
       "\\item 599927\n",
       "\\item 15\n",
       "\\end{enumerate*}\n"
      ],
      "text/markdown": [
       "1. 599927\n",
       "2. 15\n",
       "\n",
       "\n"
      ],
      "text/plain": [
       "[1] 599927     15"
      ]
     },
     "metadata": {},
     "output_type": "display_data"
    }
   ],
   "source": [
    "dim(sample_data)\n",
    "sample_data <- sample_data %>%\n",
    "  clean_names() %>%\n",
    "  unique()\n",
    "dim(sample_data)"
   ]
  },
  {
   "cell_type": "markdown",
   "id": "081b485a",
   "metadata": {
    "papermill": {
     "duration": 0.094929,
     "end_time": "2021-12-03T11:08:41.866639",
     "exception": false,
     "start_time": "2021-12-03T11:08:41.771710",
     "status": "completed"
    },
    "tags": []
   },
   "source": [
    "So, there were no duplicate rows and now we can also look for other details about the ride_length to find out if you have any outliers.\n",
    "Checking for rides that are longer than 1 day and than using max function to find out the maximum lenght of a ride."
   ]
  },
  {
   "cell_type": "code",
   "execution_count": 10,
   "id": "a153ecab",
   "metadata": {
    "execution": {
     "iopub.execute_input": "2021-12-03T11:08:42.059059Z",
     "iopub.status.busy": "2021-12-03T11:08:42.056916Z",
     "iopub.status.idle": "2021-12-03T11:08:42.102865Z",
     "shell.execute_reply": "2021-12-03T11:08:42.101181Z"
    },
    "papermill": {
     "duration": 0.143552,
     "end_time": "2021-12-03T11:08:42.103025",
     "exception": false,
     "start_time": "2021-12-03T11:08:41.959473",
     "status": "completed"
    },
    "tags": []
   },
   "outputs": [
    {
     "data": {
      "text/html": [
       "410"
      ],
      "text/latex": [
       "410"
      ],
      "text/markdown": [
       "410"
      ],
      "text/plain": [
       "[1] 410"
      ]
     },
     "metadata": {},
     "output_type": "display_data"
    },
    {
     "data": {
      "text/plain": [
       "Time difference of 2946429 secs"
      ]
     },
     "metadata": {},
     "output_type": "display_data"
    },
    {
     "data": {
      "text/plain": [
       "Time difference of 1 secs"
      ]
     },
     "metadata": {},
     "output_type": "display_data"
    }
   ],
   "source": [
    "sum(sample_data$ride_length > 86400)\n",
    "max(sample_data$ride_length)\n",
    "min(sample_data$ride_length)"
   ]
  },
  {
   "cell_type": "markdown",
   "id": "b35a3c64",
   "metadata": {
    "papermill": {
     "duration": 0.097217,
     "end_time": "2021-12-03T11:08:42.300423",
     "exception": false,
     "start_time": "2021-12-03T11:08:42.203206",
     "status": "completed"
    },
    "tags": []
   },
   "source": [
    "Now, we will save the cleaned data in a csv file for future uses"
   ]
  },
  {
   "cell_type": "code",
   "execution_count": 11,
   "id": "164670b4",
   "metadata": {
    "execution": {
     "iopub.execute_input": "2021-12-03T11:08:42.498803Z",
     "iopub.status.busy": "2021-12-03T11:08:42.497443Z",
     "iopub.status.idle": "2021-12-03T11:08:48.093108Z",
     "shell.execute_reply": "2021-12-03T11:08:48.090467Z"
    },
    "papermill": {
     "duration": 5.696542,
     "end_time": "2021-12-03T11:08:48.093312",
     "exception": false,
     "start_time": "2021-12-03T11:08:42.396770",
     "status": "completed"
    },
    "tags": []
   },
   "outputs": [],
   "source": [
    "write_csv(sample_data, \"bike_rides_of_2020-2021_cleaned.csv\")"
   ]
  },
  {
   "cell_type": "markdown",
   "id": "8ce52be6",
   "metadata": {
    "papermill": {
     "duration": 0.10937,
     "end_time": "2021-12-03T11:08:48.313209",
     "exception": false,
     "start_time": "2021-12-03T11:08:48.203839",
     "status": "completed"
    },
    "tags": []
   },
   "source": [
    "# Phase 4: Analysis\n",
    "\n",
    "In this phase we will perform complete analysis process for finding trends or patterns and relationships amongh casual rider and members using R coding.\n",
    "\n",
    "Now, I will read back cleaned file saved in above code, so that I can start analyzing the data to find the answers to the questions asked by the director."
   ]
  },
  {
   "cell_type": "code",
   "execution_count": 12,
   "id": "556a5bc0",
   "metadata": {
    "execution": {
     "iopub.execute_input": "2021-12-03T11:08:48.532000Z",
     "iopub.status.busy": "2021-12-03T11:08:48.528863Z",
     "iopub.status.idle": "2021-12-03T11:08:48.872344Z",
     "shell.execute_reply": "2021-12-03T11:08:48.870581Z"
    },
    "papermill": {
     "duration": 0.451673,
     "end_time": "2021-12-03T11:08:48.872507",
     "exception": false,
     "start_time": "2021-12-03T11:08:48.420834",
     "status": "completed"
    },
    "tags": []
   },
   "outputs": [
    {
     "name": "stderr",
     "output_type": "stream",
     "text": [
      "\u001b[1m\u001b[1mRows: \u001b[1m\u001b[22m\u001b[34m\u001b[34m599927\u001b[34m\u001b[39m \u001b[1m\u001b[1mColumns: \u001b[1m\u001b[22m\u001b[34m\u001b[34m15\u001b[34m\u001b[39m\n",
      "\n",
      "\u001b[36m──\u001b[39m \u001b[1m\u001b[1mColumn specification\u001b[1m\u001b[22m \u001b[36m────────────────────────────────────────────────────────\u001b[39m\n",
      "\u001b[1mDelimiter:\u001b[22m \",\"\n",
      "\u001b[31mchr\u001b[39m  (10): ride_id, rideable_type, start_station_name, start_station_id, end...\n",
      "\u001b[32mdbl\u001b[39m   (2): year, ride_length\n",
      "\u001b[34mdttm\u001b[39m  (2): started_at, ended_at\n",
      "\u001b[34mdate\u001b[39m  (1): date\n",
      "\n",
      "\n",
      "\u001b[36mℹ\u001b[39m Use \u001b[30m\u001b[47m\u001b[30m\u001b[47m`spec()`\u001b[47m\u001b[30m\u001b[49m\u001b[39m to retrieve the full column specification for this data.\n",
      "\u001b[36mℹ\u001b[39m Specify the column types or set \u001b[30m\u001b[47m\u001b[30m\u001b[47m`show_col_types = FALSE`\u001b[47m\u001b[30m\u001b[49m\u001b[39m to quiet this message.\n",
      "\n"
     ]
    },
    {
     "data": {
      "text/html": [
       "<table class=\"dataframe\">\n",
       "<caption>A tibble: 6 × 15</caption>\n",
       "<thead>\n",
       "\t<tr><th scope=col>ride_id</th><th scope=col>rideable_type</th><th scope=col>started_at</th><th scope=col>ended_at</th><th scope=col>start_station_name</th><th scope=col>start_station_id</th><th scope=col>end_station_name</th><th scope=col>end_station_id</th><th scope=col>member_casual</th><th scope=col>date</th><th scope=col>year</th><th scope=col>month</th><th scope=col>day</th><th scope=col>week_days</th><th scope=col>ride_length</th></tr>\n",
       "\t<tr><th scope=col>&lt;chr&gt;</th><th scope=col>&lt;chr&gt;</th><th scope=col>&lt;dttm&gt;</th><th scope=col>&lt;dttm&gt;</th><th scope=col>&lt;chr&gt;</th><th scope=col>&lt;chr&gt;</th><th scope=col>&lt;chr&gt;</th><th scope=col>&lt;chr&gt;</th><th scope=col>&lt;chr&gt;</th><th scope=col>&lt;date&gt;</th><th scope=col>&lt;dbl&gt;</th><th scope=col>&lt;chr&gt;</th><th scope=col>&lt;chr&gt;</th><th scope=col>&lt;chr&gt;</th><th scope=col>&lt;dbl&gt;</th></tr>\n",
       "</thead>\n",
       "<tbody>\n",
       "\t<tr><td>7B3D37F6A1C9B214</td><td>classic_bike </td><td>2021-08-20 15:17:16</td><td>2021-08-20 15:25:04</td><td><span style=white-space:pre-wrap>Kimbark Ave &amp; 53rd St             </span></td><td>TA1309000037</td><td><span style=white-space:pre-wrap>Kimbark Ave &amp; 53rd St      </span></td><td>TA1309000037</td><td>casual</td><td>2021-08-20</td><td>2021</td><td>08</td><td>20</td><td><span style=white-space:pre-wrap>Friday  </span></td><td> 468</td></tr>\n",
       "\t<tr><td>8EF266D2A9BA6678</td><td>classic_bike </td><td>2021-08-09 12:31:56</td><td>2021-08-09 12:49:35</td><td><span style=white-space:pre-wrap>Michigan Ave &amp; Madison St         </span></td><td><span style=white-space:pre-wrap>13036       </span></td><td><span style=white-space:pre-wrap>Wabash Ave &amp; Roosevelt Rd  </span></td><td>TA1305000002</td><td>member</td><td>2021-08-09</td><td>2021</td><td>08</td><td>09</td><td><span style=white-space:pre-wrap>Monday  </span></td><td>1059</td></tr>\n",
       "\t<tr><td>8D80ECF05F0CBC0C</td><td>classic_bike </td><td>2021-09-12 11:24:54</td><td>2021-09-12 11:55:15</td><td>DuSable Lake Shore Dr &amp; North Blvd</td><td><span style=white-space:pre-wrap>LF-005      </span></td><td><span style=white-space:pre-wrap>Streeter Dr &amp; Grand Ave    </span></td><td><span style=white-space:pre-wrap>13022       </span></td><td>casual</td><td>2021-09-12</td><td>2021</td><td>09</td><td>12</td><td><span style=white-space:pre-wrap>Sunday  </span></td><td>1821</td></tr>\n",
       "\t<tr><td>8FC2E31CE15883A3</td><td>electric_bike</td><td>2021-08-03 12:18:13</td><td>2021-08-03 12:32:25</td><td><span style=white-space:pre-wrap>Clark St &amp; Winnemac Ave           </span></td><td>TA1309000035</td><td><span style=white-space:pre-wrap>NA                         </span></td><td><span style=white-space:pre-wrap>NA          </span></td><td>casual</td><td>2021-08-03</td><td>2021</td><td>08</td><td>03</td><td>Tuesday </td><td> 852</td></tr>\n",
       "\t<tr><td>D614D31AE238C0D9</td><td>classic_bike </td><td>2021-08-12 21:44:32</td><td>2021-08-12 22:06:22</td><td><span style=white-space:pre-wrap>Cannon Dr &amp; Fullerton Ave         </span></td><td><span style=white-space:pre-wrap>13124       </span></td><td>Sheffield Ave &amp; Webster Ave</td><td>TA1309000033</td><td>casual</td><td>2021-08-12</td><td>2021</td><td>08</td><td>12</td><td>Thursday</td><td>1310</td></tr>\n",
       "\t<tr><td>C379D5FFD7089FB6</td><td>classic_bike </td><td>2021-07-30 14:10:55</td><td>2021-07-30 14:16:29</td><td><span style=white-space:pre-wrap>Racine Ave &amp; Fullerton Ave        </span></td><td>TA1306000026</td><td><span style=white-space:pre-wrap>Larrabee St &amp; Webster Ave  </span></td><td><span style=white-space:pre-wrap>13193       </span></td><td>member</td><td>2021-07-30</td><td>2021</td><td>07</td><td>30</td><td><span style=white-space:pre-wrap>Friday  </span></td><td> 334</td></tr>\n",
       "</tbody>\n",
       "</table>\n"
      ],
      "text/latex": [
       "A tibble: 6 × 15\n",
       "\\begin{tabular}{lllllllllllllll}\n",
       " ride\\_id & rideable\\_type & started\\_at & ended\\_at & start\\_station\\_name & start\\_station\\_id & end\\_station\\_name & end\\_station\\_id & member\\_casual & date & year & month & day & week\\_days & ride\\_length\\\\\n",
       " <chr> & <chr> & <dttm> & <dttm> & <chr> & <chr> & <chr> & <chr> & <chr> & <date> & <dbl> & <chr> & <chr> & <chr> & <dbl>\\\\\n",
       "\\hline\n",
       "\t 7B3D37F6A1C9B214 & classic\\_bike  & 2021-08-20 15:17:16 & 2021-08-20 15:25:04 & Kimbark Ave \\& 53rd St              & TA1309000037 & Kimbark Ave \\& 53rd St       & TA1309000037 & casual & 2021-08-20 & 2021 & 08 & 20 & Friday   &  468\\\\\n",
       "\t 8EF266D2A9BA6678 & classic\\_bike  & 2021-08-09 12:31:56 & 2021-08-09 12:49:35 & Michigan Ave \\& Madison St          & 13036        & Wabash Ave \\& Roosevelt Rd   & TA1305000002 & member & 2021-08-09 & 2021 & 08 & 09 & Monday   & 1059\\\\\n",
       "\t 8D80ECF05F0CBC0C & classic\\_bike  & 2021-09-12 11:24:54 & 2021-09-12 11:55:15 & DuSable Lake Shore Dr \\& North Blvd & LF-005       & Streeter Dr \\& Grand Ave     & 13022        & casual & 2021-09-12 & 2021 & 09 & 12 & Sunday   & 1821\\\\\n",
       "\t 8FC2E31CE15883A3 & electric\\_bike & 2021-08-03 12:18:13 & 2021-08-03 12:32:25 & Clark St \\& Winnemac Ave            & TA1309000035 & NA                          & NA           & casual & 2021-08-03 & 2021 & 08 & 03 & Tuesday  &  852\\\\\n",
       "\t D614D31AE238C0D9 & classic\\_bike  & 2021-08-12 21:44:32 & 2021-08-12 22:06:22 & Cannon Dr \\& Fullerton Ave          & 13124        & Sheffield Ave \\& Webster Ave & TA1309000033 & casual & 2021-08-12 & 2021 & 08 & 12 & Thursday & 1310\\\\\n",
       "\t C379D5FFD7089FB6 & classic\\_bike  & 2021-07-30 14:10:55 & 2021-07-30 14:16:29 & Racine Ave \\& Fullerton Ave         & TA1306000026 & Larrabee St \\& Webster Ave   & 13193        & member & 2021-07-30 & 2021 & 07 & 30 & Friday   &  334\\\\\n",
       "\\end{tabular}\n"
      ],
      "text/markdown": [
       "\n",
       "A tibble: 6 × 15\n",
       "\n",
       "| ride_id &lt;chr&gt; | rideable_type &lt;chr&gt; | started_at &lt;dttm&gt; | ended_at &lt;dttm&gt; | start_station_name &lt;chr&gt; | start_station_id &lt;chr&gt; | end_station_name &lt;chr&gt; | end_station_id &lt;chr&gt; | member_casual &lt;chr&gt; | date &lt;date&gt; | year &lt;dbl&gt; | month &lt;chr&gt; | day &lt;chr&gt; | week_days &lt;chr&gt; | ride_length &lt;dbl&gt; |\n",
       "|---|---|---|---|---|---|---|---|---|---|---|---|---|---|---|\n",
       "| 7B3D37F6A1C9B214 | classic_bike  | 2021-08-20 15:17:16 | 2021-08-20 15:25:04 | Kimbark Ave &amp; 53rd St              | TA1309000037 | Kimbark Ave &amp; 53rd St       | TA1309000037 | casual | 2021-08-20 | 2021 | 08 | 20 | Friday   |  468 |\n",
       "| 8EF266D2A9BA6678 | classic_bike  | 2021-08-09 12:31:56 | 2021-08-09 12:49:35 | Michigan Ave &amp; Madison St          | 13036        | Wabash Ave &amp; Roosevelt Rd   | TA1305000002 | member | 2021-08-09 | 2021 | 08 | 09 | Monday   | 1059 |\n",
       "| 8D80ECF05F0CBC0C | classic_bike  | 2021-09-12 11:24:54 | 2021-09-12 11:55:15 | DuSable Lake Shore Dr &amp; North Blvd | LF-005       | Streeter Dr &amp; Grand Ave     | 13022        | casual | 2021-09-12 | 2021 | 09 | 12 | Sunday   | 1821 |\n",
       "| 8FC2E31CE15883A3 | electric_bike | 2021-08-03 12:18:13 | 2021-08-03 12:32:25 | Clark St &amp; Winnemac Ave            | TA1309000035 | NA                          | NA           | casual | 2021-08-03 | 2021 | 08 | 03 | Tuesday  |  852 |\n",
       "| D614D31AE238C0D9 | classic_bike  | 2021-08-12 21:44:32 | 2021-08-12 22:06:22 | Cannon Dr &amp; Fullerton Ave          | 13124        | Sheffield Ave &amp; Webster Ave | TA1309000033 | casual | 2021-08-12 | 2021 | 08 | 12 | Thursday | 1310 |\n",
       "| C379D5FFD7089FB6 | classic_bike  | 2021-07-30 14:10:55 | 2021-07-30 14:16:29 | Racine Ave &amp; Fullerton Ave         | TA1306000026 | Larrabee St &amp; Webster Ave   | 13193        | member | 2021-07-30 | 2021 | 07 | 30 | Friday   |  334 |\n",
       "\n"
      ],
      "text/plain": [
       "  ride_id          rideable_type started_at          ended_at           \n",
       "1 7B3D37F6A1C9B214 classic_bike  2021-08-20 15:17:16 2021-08-20 15:25:04\n",
       "2 8EF266D2A9BA6678 classic_bike  2021-08-09 12:31:56 2021-08-09 12:49:35\n",
       "3 8D80ECF05F0CBC0C classic_bike  2021-09-12 11:24:54 2021-09-12 11:55:15\n",
       "4 8FC2E31CE15883A3 electric_bike 2021-08-03 12:18:13 2021-08-03 12:32:25\n",
       "5 D614D31AE238C0D9 classic_bike  2021-08-12 21:44:32 2021-08-12 22:06:22\n",
       "6 C379D5FFD7089FB6 classic_bike  2021-07-30 14:10:55 2021-07-30 14:16:29\n",
       "  start_station_name                 start_station_id\n",
       "1 Kimbark Ave & 53rd St              TA1309000037    \n",
       "2 Michigan Ave & Madison St          13036           \n",
       "3 DuSable Lake Shore Dr & North Blvd LF-005          \n",
       "4 Clark St & Winnemac Ave            TA1309000035    \n",
       "5 Cannon Dr & Fullerton Ave          13124           \n",
       "6 Racine Ave & Fullerton Ave         TA1306000026    \n",
       "  end_station_name            end_station_id member_casual date       year\n",
       "1 Kimbark Ave & 53rd St       TA1309000037   casual        2021-08-20 2021\n",
       "2 Wabash Ave & Roosevelt Rd   TA1305000002   member        2021-08-09 2021\n",
       "3 Streeter Dr & Grand Ave     13022          casual        2021-09-12 2021\n",
       "4 NA                          NA             casual        2021-08-03 2021\n",
       "5 Sheffield Ave & Webster Ave TA1309000033   casual        2021-08-12 2021\n",
       "6 Larrabee St & Webster Ave   13193          member        2021-07-30 2021\n",
       "  month day week_days ride_length\n",
       "1 08    20  Friday     468       \n",
       "2 08    09  Monday    1059       \n",
       "3 09    12  Sunday    1821       \n",
       "4 08    03  Tuesday    852       \n",
       "5 08    12  Thursday  1310       \n",
       "6 07    30  Friday     334       "
      ]
     },
     "metadata": {},
     "output_type": "display_data"
    }
   ],
   "source": [
    "clean_df <- read_csv(\"./bike_rides_of_2020-2021_cleaned.csv\")\n",
    "head(clean_df)"
   ]
  },
  {
   "cell_type": "markdown",
   "id": "b1843c6c",
   "metadata": {
    "papermill": {
     "duration": 0.106674,
     "end_time": "2021-12-03T11:08:49.092987",
     "exception": false,
     "start_time": "2021-12-03T11:08:48.986313",
     "status": "completed"
    },
    "tags": []
   },
   "source": [
    "## Descriptive Analysis\n",
    "\n",
    "As we are going to answers that three questions on the type of riders so we will do some descriptive analysis on ride_lenght and the type of riders by using aggregate function in Rstudio"
   ]
  },
  {
   "cell_type": "code",
   "execution_count": 13,
   "id": "7f17e408",
   "metadata": {
    "execution": {
     "iopub.execute_input": "2021-12-03T11:08:49.303789Z",
     "iopub.status.busy": "2021-12-03T11:08:49.301677Z",
     "iopub.status.idle": "2021-12-03T11:08:53.538790Z",
     "shell.execute_reply": "2021-12-03T11:08:53.537544Z"
    },
    "papermill": {
     "duration": 4.343552,
     "end_time": "2021-12-03T11:08:53.538991",
     "exception": false,
     "start_time": "2021-12-03T11:08:49.195439",
     "status": "completed"
    },
    "tags": []
   },
   "outputs": [
    {
     "data": {
      "text/plain": [
       "   Min. 1st Qu.  Median    Mean 3rd Qu.    Max. \n",
       "      1     417     736    1303    1314 2946429 "
      ]
     },
     "metadata": {},
     "output_type": "display_data"
    },
    {
     "data": {
      "text/html": [
       "<table class=\"dataframe\">\n",
       "<caption>A data.frame: 2 × 2</caption>\n",
       "<thead>\n",
       "\t<tr><th scope=col>clean_df$member_casual</th><th scope=col>clean_df$ride_length</th></tr>\n",
       "\t<tr><th scope=col>&lt;chr&gt;</th><th scope=col>&lt;dbl&gt;</th></tr>\n",
       "</thead>\n",
       "<tbody>\n",
       "\t<tr><td>casual</td><td>1803.5107</td></tr>\n",
       "\t<tr><td>member</td><td> 821.8759</td></tr>\n",
       "</tbody>\n",
       "</table>\n"
      ],
      "text/latex": [
       "A data.frame: 2 × 2\n",
       "\\begin{tabular}{ll}\n",
       " clean\\_df\\$member\\_casual & clean\\_df\\$ride\\_length\\\\\n",
       " <chr> & <dbl>\\\\\n",
       "\\hline\n",
       "\t casual & 1803.5107\\\\\n",
       "\t member &  821.8759\\\\\n",
       "\\end{tabular}\n"
      ],
      "text/markdown": [
       "\n",
       "A data.frame: 2 × 2\n",
       "\n",
       "| clean_df$member_casual &lt;chr&gt; | clean_df$ride_length &lt;dbl&gt; |\n",
       "|---|---|\n",
       "| casual | 1803.5107 |\n",
       "| member |  821.8759 |\n",
       "\n"
      ],
      "text/plain": [
       "  clean_df$member_casual clean_df$ride_length\n",
       "1 casual                 1803.5107           \n",
       "2 member                  821.8759           "
      ]
     },
     "metadata": {},
     "output_type": "display_data"
    },
    {
     "data": {
      "text/html": [
       "<table class=\"dataframe\">\n",
       "<caption>A data.frame: 2 × 2</caption>\n",
       "<thead>\n",
       "\t<tr><th scope=col>clean_df$member_casual</th><th scope=col>clean_df$ride_length</th></tr>\n",
       "\t<tr><th scope=col>&lt;chr&gt;</th><th scope=col>&lt;dbl&gt;</th></tr>\n",
       "</thead>\n",
       "<tbody>\n",
       "\t<tr><td>casual</td><td>941</td></tr>\n",
       "\t<tr><td>member</td><td>585</td></tr>\n",
       "</tbody>\n",
       "</table>\n"
      ],
      "text/latex": [
       "A data.frame: 2 × 2\n",
       "\\begin{tabular}{ll}\n",
       " clean\\_df\\$member\\_casual & clean\\_df\\$ride\\_length\\\\\n",
       " <chr> & <dbl>\\\\\n",
       "\\hline\n",
       "\t casual & 941\\\\\n",
       "\t member & 585\\\\\n",
       "\\end{tabular}\n"
      ],
      "text/markdown": [
       "\n",
       "A data.frame: 2 × 2\n",
       "\n",
       "| clean_df$member_casual &lt;chr&gt; | clean_df$ride_length &lt;dbl&gt; |\n",
       "|---|---|\n",
       "| casual | 941 |\n",
       "| member | 585 |\n",
       "\n"
      ],
      "text/plain": [
       "  clean_df$member_casual clean_df$ride_length\n",
       "1 casual                 941                 \n",
       "2 member                 585                 "
      ]
     },
     "metadata": {},
     "output_type": "display_data"
    },
    {
     "data": {
      "text/html": [
       "<table class=\"dataframe\">\n",
       "<caption>A data.frame: 2 × 2</caption>\n",
       "<thead>\n",
       "\t<tr><th scope=col>clean_df$member_casual</th><th scope=col>clean_df$ride_length</th></tr>\n",
       "\t<tr><th scope=col>&lt;chr&gt;</th><th scope=col>&lt;dbl&gt;</th></tr>\n",
       "</thead>\n",
       "<tbody>\n",
       "\t<tr><td>casual</td><td>2946429</td></tr>\n",
       "\t<tr><td>member</td><td>  89997</td></tr>\n",
       "</tbody>\n",
       "</table>\n"
      ],
      "text/latex": [
       "A data.frame: 2 × 2\n",
       "\\begin{tabular}{ll}\n",
       " clean\\_df\\$member\\_casual & clean\\_df\\$ride\\_length\\\\\n",
       " <chr> & <dbl>\\\\\n",
       "\\hline\n",
       "\t casual & 2946429\\\\\n",
       "\t member &   89997\\\\\n",
       "\\end{tabular}\n"
      ],
      "text/markdown": [
       "\n",
       "A data.frame: 2 × 2\n",
       "\n",
       "| clean_df$member_casual &lt;chr&gt; | clean_df$ride_length &lt;dbl&gt; |\n",
       "|---|---|\n",
       "| casual | 2946429 |\n",
       "| member |   89997 |\n",
       "\n"
      ],
      "text/plain": [
       "  clean_df$member_casual clean_df$ride_length\n",
       "1 casual                 2946429             \n",
       "2 member                   89997             "
      ]
     },
     "metadata": {},
     "output_type": "display_data"
    },
    {
     "data": {
      "text/html": [
       "<table class=\"dataframe\">\n",
       "<caption>A data.frame: 2 × 2</caption>\n",
       "<thead>\n",
       "\t<tr><th scope=col>clean_df$member_casual</th><th scope=col>clean_df$ride_length</th></tr>\n",
       "\t<tr><th scope=col>&lt;chr&gt;</th><th scope=col>&lt;dbl&gt;</th></tr>\n",
       "</thead>\n",
       "<tbody>\n",
       "\t<tr><td>casual</td><td>1</td></tr>\n",
       "\t<tr><td>member</td><td>1</td></tr>\n",
       "</tbody>\n",
       "</table>\n"
      ],
      "text/latex": [
       "A data.frame: 2 × 2\n",
       "\\begin{tabular}{ll}\n",
       " clean\\_df\\$member\\_casual & clean\\_df\\$ride\\_length\\\\\n",
       " <chr> & <dbl>\\\\\n",
       "\\hline\n",
       "\t casual & 1\\\\\n",
       "\t member & 1\\\\\n",
       "\\end{tabular}\n"
      ],
      "text/markdown": [
       "\n",
       "A data.frame: 2 × 2\n",
       "\n",
       "| clean_df$member_casual &lt;chr&gt; | clean_df$ride_length &lt;dbl&gt; |\n",
       "|---|---|\n",
       "| casual | 1 |\n",
       "| member | 1 |\n",
       "\n"
      ],
      "text/plain": [
       "  clean_df$member_casual clean_df$ride_length\n",
       "1 casual                 1                   \n",
       "2 member                 1                   "
      ]
     },
     "metadata": {},
     "output_type": "display_data"
    }
   ],
   "source": [
    "# Summary of ride_length\n",
    "summary(clean_df$ride_length)\n",
    "\n",
    "# Now we will compare casual riders and members by using ride_lenght all in seconds\n",
    "\n",
    "aggregate(clean_df$ride_length ~ clean_df$member_casual, FUN = mean)\n",
    "aggregate(clean_df$ride_length ~ clean_df$member_casual, FUN = median)\n",
    "aggregate(clean_df$ride_length ~ clean_df$member_casual, FUN = max)\n",
    "aggregate(clean_df$ride_length ~ clean_df$member_casual, FUN = min)"
   ]
  },
  {
   "cell_type": "markdown",
   "id": "dd63330c",
   "metadata": {
    "papermill": {
     "duration": 0.109528,
     "end_time": "2021-12-03T11:08:53.758221",
     "exception": false,
     "start_time": "2021-12-03T11:08:53.648693",
     "status": "completed"
    },
    "tags": []
   },
   "source": [
    "From the above output we can clearly see that ride_length or duration of rides for casual riders are greater than actual members.\n",
    "\n",
    "Now, we will look at the average of the ride_length on weekdays for casual riders and members"
   ]
  },
  {
   "cell_type": "code",
   "execution_count": 14,
   "id": "3ab47707",
   "metadata": {
    "execution": {
     "iopub.execute_input": "2021-12-03T11:08:53.981046Z",
     "iopub.status.busy": "2021-12-03T11:08:53.979350Z",
     "iopub.status.idle": "2021-12-03T11:08:55.065189Z",
     "shell.execute_reply": "2021-12-03T11:08:55.063598Z"
    },
    "papermill": {
     "duration": 1.199417,
     "end_time": "2021-12-03T11:08:55.065356",
     "exception": false,
     "start_time": "2021-12-03T11:08:53.865939",
     "status": "completed"
    },
    "tags": []
   },
   "outputs": [
    {
     "data": {
      "text/html": [
       "<table class=\"dataframe\">\n",
       "<caption>A data.frame: 14 × 3</caption>\n",
       "<thead>\n",
       "\t<tr><th scope=col>clean_df$member_casual</th><th scope=col>clean_df$week_days</th><th scope=col>clean_df$ride_length</th></tr>\n",
       "\t<tr><th scope=col>&lt;chr&gt;</th><th scope=col>&lt;chr&gt;</th><th scope=col>&lt;dbl&gt;</th></tr>\n",
       "</thead>\n",
       "<tbody>\n",
       "\t<tr><td>casual</td><td>Friday   </td><td>1672.1431</td></tr>\n",
       "\t<tr><td>member</td><td>Friday   </td><td> 800.1905</td></tr>\n",
       "\t<tr><td>casual</td><td>Monday   </td><td>1886.8912</td></tr>\n",
       "\t<tr><td>member</td><td>Monday   </td><td> 792.5529</td></tr>\n",
       "\t<tr><td>casual</td><td>Saturday </td><td>1945.4114</td></tr>\n",
       "\t<tr><td>member</td><td>Saturday </td><td> 924.0571</td></tr>\n",
       "\t<tr><td>casual</td><td>Sunday   </td><td>2117.2630</td></tr>\n",
       "\t<tr><td>member</td><td>Sunday   </td><td> 950.5937</td></tr>\n",
       "\t<tr><td>casual</td><td>Thursday </td><td>1653.0236</td></tr>\n",
       "\t<tr><td>member</td><td>Thursday </td><td> 779.7914</td></tr>\n",
       "\t<tr><td>casual</td><td>Tuesday  </td><td>1523.5752</td></tr>\n",
       "\t<tr><td>member</td><td>Tuesday  </td><td> 760.7392</td></tr>\n",
       "\t<tr><td>casual</td><td>Wednesday</td><td>1494.1295</td></tr>\n",
       "\t<tr><td>member</td><td>Wednesday</td><td> 766.0484</td></tr>\n",
       "</tbody>\n",
       "</table>\n"
      ],
      "text/latex": [
       "A data.frame: 14 × 3\n",
       "\\begin{tabular}{lll}\n",
       " clean\\_df\\$member\\_casual & clean\\_df\\$week\\_days & clean\\_df\\$ride\\_length\\\\\n",
       " <chr> & <chr> & <dbl>\\\\\n",
       "\\hline\n",
       "\t casual & Friday    & 1672.1431\\\\\n",
       "\t member & Friday    &  800.1905\\\\\n",
       "\t casual & Monday    & 1886.8912\\\\\n",
       "\t member & Monday    &  792.5529\\\\\n",
       "\t casual & Saturday  & 1945.4114\\\\\n",
       "\t member & Saturday  &  924.0571\\\\\n",
       "\t casual & Sunday    & 2117.2630\\\\\n",
       "\t member & Sunday    &  950.5937\\\\\n",
       "\t casual & Thursday  & 1653.0236\\\\\n",
       "\t member & Thursday  &  779.7914\\\\\n",
       "\t casual & Tuesday   & 1523.5752\\\\\n",
       "\t member & Tuesday   &  760.7392\\\\\n",
       "\t casual & Wednesday & 1494.1295\\\\\n",
       "\t member & Wednesday &  766.0484\\\\\n",
       "\\end{tabular}\n"
      ],
      "text/markdown": [
       "\n",
       "A data.frame: 14 × 3\n",
       "\n",
       "| clean_df$member_casual &lt;chr&gt; | clean_df$week_days &lt;chr&gt; | clean_df$ride_length &lt;dbl&gt; |\n",
       "|---|---|---|\n",
       "| casual | Friday    | 1672.1431 |\n",
       "| member | Friday    |  800.1905 |\n",
       "| casual | Monday    | 1886.8912 |\n",
       "| member | Monday    |  792.5529 |\n",
       "| casual | Saturday  | 1945.4114 |\n",
       "| member | Saturday  |  924.0571 |\n",
       "| casual | Sunday    | 2117.2630 |\n",
       "| member | Sunday    |  950.5937 |\n",
       "| casual | Thursday  | 1653.0236 |\n",
       "| member | Thursday  |  779.7914 |\n",
       "| casual | Tuesday   | 1523.5752 |\n",
       "| member | Tuesday   |  760.7392 |\n",
       "| casual | Wednesday | 1494.1295 |\n",
       "| member | Wednesday |  766.0484 |\n",
       "\n"
      ],
      "text/plain": [
       "   clean_df$member_casual clean_df$week_days clean_df$ride_length\n",
       "1  casual                 Friday             1672.1431           \n",
       "2  member                 Friday              800.1905           \n",
       "3  casual                 Monday             1886.8912           \n",
       "4  member                 Monday              792.5529           \n",
       "5  casual                 Saturday           1945.4114           \n",
       "6  member                 Saturday            924.0571           \n",
       "7  casual                 Sunday             2117.2630           \n",
       "8  member                 Sunday              950.5937           \n",
       "9  casual                 Thursday           1653.0236           \n",
       "10 member                 Thursday            779.7914           \n",
       "11 casual                 Tuesday            1523.5752           \n",
       "12 member                 Tuesday             760.7392           \n",
       "13 casual                 Wednesday          1494.1295           \n",
       "14 member                 Wednesday           766.0484           "
      ]
     },
     "metadata": {},
     "output_type": "display_data"
    }
   ],
   "source": [
    "aggregate(clean_df$ride_length ~ clean_df$member_casual+clean_df$week_days, FUN = mean)"
   ]
  },
  {
   "cell_type": "markdown",
   "id": "3f4ff0c0",
   "metadata": {
    "papermill": {
     "duration": 0.110421,
     "end_time": "2021-12-03T11:08:55.289741",
     "exception": false,
     "start_time": "2021-12-03T11:08:55.179320",
     "status": "completed"
    },
    "tags": []
   },
   "source": [
    "Again, we can clearly see that casual riders use bikes more in weekends rather than week days and the ride length of casual riders are greater than actual members on each day of week.\n",
    "\n",
    "Now, we will analyze bike rides by rider type and weekdays"
   ]
  },
  {
   "cell_type": "code",
   "execution_count": 15,
   "id": "c280423b",
   "metadata": {
    "execution": {
     "iopub.execute_input": "2021-12-03T11:08:55.519604Z",
     "iopub.status.busy": "2021-12-03T11:08:55.517752Z",
     "iopub.status.idle": "2021-12-03T11:08:57.043563Z",
     "shell.execute_reply": "2021-12-03T11:08:57.041922Z"
    },
    "papermill": {
     "duration": 1.644443,
     "end_time": "2021-12-03T11:08:57.043706",
     "exception": false,
     "start_time": "2021-12-03T11:08:55.399263",
     "status": "completed"
    },
    "tags": []
   },
   "outputs": [
    {
     "name": "stderr",
     "output_type": "stream",
     "text": [
      "`summarise()` has grouped output by 'member_casual'. You can override using the `.groups` argument.\n",
      "\n"
     ]
    },
    {
     "data": {
      "text/html": [
       "<table class=\"dataframe\">\n",
       "<caption>A grouped_df: 14 × 4</caption>\n",
       "<thead>\n",
       "\t<tr><th scope=col>member_casual</th><th scope=col>weekday</th><th scope=col>no_of_rides</th><th scope=col>ride_avg_duration</th></tr>\n",
       "\t<tr><th scope=col>&lt;chr&gt;</th><th scope=col>&lt;ord&gt;</th><th scope=col>&lt;int&gt;</th><th scope=col>&lt;dbl&gt;</th></tr>\n",
       "</thead>\n",
       "<tbody>\n",
       "\t<tr><td>casual</td><td>Sun</td><td>55389</td><td>2117.2630</td></tr>\n",
       "\t<tr><td>casual</td><td>Mon</td><td>32522</td><td>1886.8912</td></tr>\n",
       "\t<tr><td>casual</td><td>Tue</td><td>30110</td><td>1523.5752</td></tr>\n",
       "\t<tr><td>casual</td><td>Wed</td><td>31777</td><td>1494.1295</td></tr>\n",
       "\t<tr><td>casual</td><td>Thu</td><td>35019</td><td>1653.0236</td></tr>\n",
       "\t<tr><td>casual</td><td>Fri</td><td>44123</td><td>1672.1431</td></tr>\n",
       "\t<tr><td>casual</td><td>Sat</td><td>65089</td><td>1945.4114</td></tr>\n",
       "\t<tr><td>member</td><td>Sun</td><td>38178</td><td> 950.5937</td></tr>\n",
       "\t<tr><td>member</td><td>Mon</td><td>39161</td><td> 792.5529</td></tr>\n",
       "\t<tr><td>member</td><td>Tue</td><td>44874</td><td> 760.7392</td></tr>\n",
       "\t<tr><td>member</td><td>Wed</td><td>46464</td><td> 766.0484</td></tr>\n",
       "\t<tr><td>member</td><td>Thu</td><td>47091</td><td> 779.7914</td></tr>\n",
       "\t<tr><td>member</td><td>Fri</td><td>45664</td><td> 800.1905</td></tr>\n",
       "\t<tr><td>member</td><td>Sat</td><td>44466</td><td> 924.0571</td></tr>\n",
       "</tbody>\n",
       "</table>\n"
      ],
      "text/latex": [
       "A grouped\\_df: 14 × 4\n",
       "\\begin{tabular}{llll}\n",
       " member\\_casual & weekday & no\\_of\\_rides & ride\\_avg\\_duration\\\\\n",
       " <chr> & <ord> & <int> & <dbl>\\\\\n",
       "\\hline\n",
       "\t casual & Sun & 55389 & 2117.2630\\\\\n",
       "\t casual & Mon & 32522 & 1886.8912\\\\\n",
       "\t casual & Tue & 30110 & 1523.5752\\\\\n",
       "\t casual & Wed & 31777 & 1494.1295\\\\\n",
       "\t casual & Thu & 35019 & 1653.0236\\\\\n",
       "\t casual & Fri & 44123 & 1672.1431\\\\\n",
       "\t casual & Sat & 65089 & 1945.4114\\\\\n",
       "\t member & Sun & 38178 &  950.5937\\\\\n",
       "\t member & Mon & 39161 &  792.5529\\\\\n",
       "\t member & Tue & 44874 &  760.7392\\\\\n",
       "\t member & Wed & 46464 &  766.0484\\\\\n",
       "\t member & Thu & 47091 &  779.7914\\\\\n",
       "\t member & Fri & 45664 &  800.1905\\\\\n",
       "\t member & Sat & 44466 &  924.0571\\\\\n",
       "\\end{tabular}\n"
      ],
      "text/markdown": [
       "\n",
       "A grouped_df: 14 × 4\n",
       "\n",
       "| member_casual &lt;chr&gt; | weekday &lt;ord&gt; | no_of_rides &lt;int&gt; | ride_avg_duration &lt;dbl&gt; |\n",
       "|---|---|---|---|\n",
       "| casual | Sun | 55389 | 2117.2630 |\n",
       "| casual | Mon | 32522 | 1886.8912 |\n",
       "| casual | Tue | 30110 | 1523.5752 |\n",
       "| casual | Wed | 31777 | 1494.1295 |\n",
       "| casual | Thu | 35019 | 1653.0236 |\n",
       "| casual | Fri | 44123 | 1672.1431 |\n",
       "| casual | Sat | 65089 | 1945.4114 |\n",
       "| member | Sun | 38178 |  950.5937 |\n",
       "| member | Mon | 39161 |  792.5529 |\n",
       "| member | Tue | 44874 |  760.7392 |\n",
       "| member | Wed | 46464 |  766.0484 |\n",
       "| member | Thu | 47091 |  779.7914 |\n",
       "| member | Fri | 45664 |  800.1905 |\n",
       "| member | Sat | 44466 |  924.0571 |\n",
       "\n"
      ],
      "text/plain": [
       "   member_casual weekday no_of_rides ride_avg_duration\n",
       "1  casual        Sun     55389       2117.2630        \n",
       "2  casual        Mon     32522       1886.8912        \n",
       "3  casual        Tue     30110       1523.5752        \n",
       "4  casual        Wed     31777       1494.1295        \n",
       "5  casual        Thu     35019       1653.0236        \n",
       "6  casual        Fri     44123       1672.1431        \n",
       "7  casual        Sat     65089       1945.4114        \n",
       "8  member        Sun     38178        950.5937        \n",
       "9  member        Mon     39161        792.5529        \n",
       "10 member        Tue     44874        760.7392        \n",
       "11 member        Wed     46464        766.0484        \n",
       "12 member        Thu     47091        779.7914        \n",
       "13 member        Fri     45664        800.1905        \n",
       "14 member        Sat     44466        924.0571        "
      ]
     },
     "metadata": {},
     "output_type": "display_data"
    }
   ],
   "source": [
    "clean_df %>%\n",
    "  mutate(weekday = wday(started_at, label = TRUE)) %>%\n",
    "  group_by(member_casual, weekday) %>%\n",
    "  summarise(no_of_rides = n(),\n",
    "            ride_avg_duration = mean(ride_length)) %>%\n",
    "  arrange(member_casual, weekday)"
   ]
  },
  {
   "cell_type": "markdown",
   "id": "f2931fd8",
   "metadata": {
    "papermill": {
     "duration": 0.111687,
     "end_time": "2021-12-03T11:08:57.269073",
     "exception": false,
     "start_time": "2021-12-03T11:08:57.157386",
     "status": "completed"
    },
    "tags": []
   },
   "source": [
    "We can clearly see that casual riders take less number of rides but for longer time as compare to members who take more number of rides for less time.\n",
    "\n",
    "Now, we will visualize the number of rides by rider type by using ggplot2 functions"
   ]
  },
  {
   "cell_type": "code",
   "execution_count": 16,
   "id": "1836cdd8",
   "metadata": {
    "execution": {
     "iopub.execute_input": "2021-12-03T11:08:57.499901Z",
     "iopub.status.busy": "2021-12-03T11:08:57.498025Z",
     "iopub.status.idle": "2021-12-03T11:08:58.965043Z",
     "shell.execute_reply": "2021-12-03T11:08:58.963979Z"
    },
    "papermill": {
     "duration": 1.583665,
     "end_time": "2021-12-03T11:08:58.965193",
     "exception": false,
     "start_time": "2021-12-03T11:08:57.381528",
     "status": "completed"
    },
    "tags": []
   },
   "outputs": [
    {
     "name": "stderr",
     "output_type": "stream",
     "text": [
      "`summarise()` has grouped output by 'member_casual'. You can override using the `.groups` argument.\n",
      "\n"
     ]
    },
    {
     "data": {
      "image/png": "[encoded data removed]"
     },
     "metadata": {
      "image/png": {
       "height": 420,
       "width": 420
      }
     },
     "output_type": "display_data"
    }
   ],
   "source": [
    "clean_df %>%\n",
    "  mutate(weekday = wday(started_at, label = TRUE)) %>%\n",
    "  group_by(member_casual, weekday) %>%\n",
    "  summarise(no_of_rides = n(),\n",
    "            ride_avg_duration = mean(ride_length)) %>%\n",
    "  arrange(member_casual, weekday) %>%\n",
    "  ggplot(aes(x = weekday, y = no_of_rides, fill = member_casual)) + geom_col(position = 'dodge')"
   ]
  },
  {
   "cell_type": "code",
   "execution_count": 17,
   "id": "02984eb2",
   "metadata": {
    "execution": {
     "iopub.execute_input": "2021-12-03T11:08:59.201286Z",
     "iopub.status.busy": "2021-12-03T11:08:59.199730Z",
     "iopub.status.idle": "2021-12-03T11:09:00.427742Z",
     "shell.execute_reply": "2021-12-03T11:09:00.427025Z"
    },
    "papermill": {
     "duration": 1.347891,
     "end_time": "2021-12-03T11:09:00.427869",
     "exception": false,
     "start_time": "2021-12-03T11:08:59.079978",
     "status": "completed"
    },
    "tags": []
   },
   "outputs": [
    {
     "name": "stderr",
     "output_type": "stream",
     "text": [
      "`summarise()` has grouped output by 'member_casual'. You can override using the `.groups` argument.\n",
      "\n"
     ]
    },
    {
     "data": {
      "image/png": "[encoded data removed]"
     },
     "metadata": {
      "image/png": {
       "height": 420,
       "width": 420
      }
     },
     "output_type": "display_data"
    }
   ],
   "source": [
    "clean_df %>%\n",
    "  mutate(weekday = wday(started_at, label = TRUE)) %>%\n",
    "  group_by(member_casual, weekday) %>%\n",
    "  summarise(no_of_rides = n(),\n",
    "            ride_avg_duration = mean(ride_length)) %>%\n",
    "  arrange(member_casual, weekday) %>%\n",
    "  ggplot(aes(x = weekday, y = ride_avg_duration, fill = member_casual)) + geom_col(position = 'dodge')"
   ]
  },
  {
   "cell_type": "markdown",
   "id": "05bb6ec1",
   "metadata": {
    "papermill": {
     "duration": 0.116857,
     "end_time": "2021-12-03T11:09:00.662719",
     "exception": false,
     "start_time": "2021-12-03T11:09:00.545862",
     "status": "completed"
    },
    "tags": []
   },
   "source": [
    "From the aboe two visuals it has become very clear that casul riders are using bikes more on saturday, sunday and friday and have lesser number of rides with greater duration of rides.\n",
    "\n",
    "Now, we will calculate total number of monthly rides by rider type and we will save it for future analysis"
   ]
  },
  {
   "cell_type": "code",
   "execution_count": 18,
   "id": "13d006b6",
   "metadata": {
    "execution": {
     "iopub.execute_input": "2021-12-03T11:09:00.906347Z",
     "iopub.status.busy": "2021-12-03T11:09:00.904805Z",
     "iopub.status.idle": "2021-12-03T11:09:01.926358Z",
     "shell.execute_reply": "2021-12-03T11:09:01.925154Z"
    },
    "papermill": {
     "duration": 1.142662,
     "end_time": "2021-12-03T11:09:01.926518",
     "exception": false,
     "start_time": "2021-12-03T11:09:00.783856",
     "status": "completed"
    },
    "tags": []
   },
   "outputs": [
    {
     "name": "stderr",
     "output_type": "stream",
     "text": [
      "`summarise()` has grouped output by 'member_casual'. You can override using the `.groups` argument.\n",
      "\n"
     ]
    }
   ],
   "source": [
    "month_summary <- clean_df %>%\n",
    "  mutate(month = month(started_at, label = TRUE)) %>%\n",
    "  group_by(member_casual, month) %>%\n",
    "  summarise(no_of_rides = n(),\n",
    "            ride_avg_duration = mean(ride_length)) %>%\n",
    "  arrange(member_casual, month)\n",
    "write_csv(month_summary, \"Averge_no_of_monthly_rides_ by_rider_type.csv\")"
   ]
  },
  {
   "cell_type": "markdown",
   "id": "96d230ec",
   "metadata": {
    "papermill": {
     "duration": 0.117954,
     "end_time": "2021-12-03T11:09:02.163156",
     "exception": false,
     "start_time": "2021-12-03T11:09:02.045202",
     "status": "completed"
    },
    "tags": []
   },
   "source": [
    "Finding stations mostly used by each rider type and than saving it for futur analysis"
   ]
  },
  {
   "cell_type": "code",
   "execution_count": 19,
   "id": "2711cb85",
   "metadata": {
    "execution": {
     "iopub.execute_input": "2021-12-03T11:09:02.405955Z",
     "iopub.status.busy": "2021-12-03T11:09:02.404006Z",
     "iopub.status.idle": "2021-12-03T11:09:03.040434Z",
     "shell.execute_reply": "2021-12-03T11:09:03.039440Z"
    },
    "papermill": {
     "duration": 0.757837,
     "end_time": "2021-12-03T11:09:03.040571",
     "exception": false,
     "start_time": "2021-12-03T11:09:02.282734",
     "status": "completed"
    },
    "tags": []
   },
   "outputs": [
    {
     "name": "stderr",
     "output_type": "stream",
     "text": [
      "`summarise()` has grouped output by 'station'. You can override using the `.groups` argument.\n",
      "\n"
     ]
    }
   ],
   "source": [
    "station_summary <- clean_df %>%\n",
    "  mutate(station = start_station_name) %>%\n",
    "  drop_na(start_station_name) %>%\n",
    "  group_by(station, member_casual) %>%\n",
    "  summarise(no_of_rides = n()) %>%\n",
    "  arrange(no_of_rides)\n",
    "write_csv(station_summary, \"Station_summary.csv\")"
   ]
  },
  {
   "cell_type": "markdown",
   "id": "134da2c9",
   "metadata": {
    "papermill": {
     "duration": 0.120166,
     "end_time": "2021-12-03T11:09:03.284180",
     "exception": false,
     "start_time": "2021-12-03T11:09:03.164014",
     "status": "completed"
    },
    "tags": []
   },
   "source": [
    "# Phase 5: Sharing\n",
    "\n",
    "This is the phase in which the data analyst share his insights which he has gotten through detail analysis of the data. In this step he present it to stakeholders using visuals and key points that are easily understandable by stakeholders.\n",
    "\n",
    "# Phase 6: Acting\n",
    "\n",
    "This is the step in which the stakeholders after looking at the data that was shared with them decided to take necessary steps to overcome the problem at hand.\n",
    "\n",
    "Looking at the above analysis we can easily say that.\n",
    "\n",
    "  * That actual members take more number of rides with lesser duration, while casual riders take less rides with longer duration.\n",
    "\n",
    "  * Casual riders rides duration are greater than actual members on each weekdays, but they are more active on weekends where they take more rides and for longer duration.\n",
    "\n",
    "  * Casual riders often uses bike rides for sports activities.\n",
    "\n",
    "Finally, the recommendations that I will make based on above findings are given below.\n",
    "  * The bike share company should introduce riding packages for sports activities, weekends parties, for summer and school events and offer special discounts on these events to convince casual riders to buy or subscribe to annual membership.\n",
    "  * Also, the bike share company could introduce seasonal or monthly packages, that will increase the interest of casual riders to subscribe to these packages as they will have more options.\n",
    "  * And presenting the casual riders with amazing promotions at busiest times. Like weekends or months like June and July."
   ]
  },
  {
   "cell_type": "code",
   "execution_count": null,
   "id": "1d8f31f8",
   "metadata": {
    "papermill": {
     "duration": 0.126969,
     "end_time": "2021-12-03T11:09:03.529479",
     "exception": false,
     "start_time": "2021-12-03T11:09:03.402510",
     "status": "completed"
    },
    "tags": []
   },
   "outputs": [],
   "source": []
  }
 ],
 "metadata": {
  "kernelspec": {
   "display_name": "R",
   "language": "R",
   "name": "ir"
  },
  "language_info": {
   "codemirror_mode": "r",
   "file_extension": ".r",
   "mimetype": "text/x-r-source",
   "name": "R",
   "pygments_lexer": "r",
   "version": "4.0.5"
  },
  "papermill": {
   "default_parameters": {},
   "duration": 77.965494,
   "end_time": "2021-12-03T11:09:03.876022",
   "environment_variables": {},
   "exception": null,
   "input_path": "__notebook__.ipynb",
   "output_path": "__notebook__.ipynb",
   "parameters": {},
   "start_time": "2021-12-03T11:07:45.910528",
   "version": "2.3.3"
  }
 },
 "nbformat": 4,
 "nbformat_minor": 5
}
